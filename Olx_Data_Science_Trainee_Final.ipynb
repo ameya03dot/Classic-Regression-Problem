{
  "nbformat": 4,
  "nbformat_minor": 0,
  "metadata": {
    "kernelspec": {
      "display_name": "Python 3",
      "language": "python",
      "name": "python3"
    },
    "language_info": {
      "codemirror_mode": {
        "name": "ipython",
        "version": 3
      },
      "file_extension": ".py",
      "mimetype": "text/x-python",
      "name": "python",
      "nbconvert_exporter": "python",
      "pygments_lexer": "ipython3",
      "version": "3.8.5"
    },
    "colab": {
      "name": "Olx_Data_Science_Trainee_updated_Final.ipynb",
      "provenance": [],
      "collapsed_sections": [
        "e3phYZn9hyjn",
        "jGSsIBXIiBp7",
        "-ZPS6IFRiSkZ",
        "5eFlYWmFiZr3",
        "4C2BVpzuSyDh",
        "ebEHeqVvihrr",
        "ZLCfG-dHisUM",
        "wtSD3sAxiyn0",
        "SWR6Z4ZYi8X0",
        "N4fI3M9pjC1D",
        "McFpufxgVqCa"
      ],
      "toc_visible": true
    },
    "accelerator": "GPU"
  },
  "cells": [
    {
      "cell_type": "markdown",
      "metadata": {
        "id": "e3phYZn9hyjn"
      },
      "source": [
        "# **Import Necessary Packages**"
      ]
    },
    {
      "cell_type": "code",
      "metadata": {
        "id": "ApmjadLxShCQ"
      },
      "source": [
        "import pandas as pd\n",
        "import numpy as np\n",
        "import sklearn\n",
        "import matplotlib.pyplot as plt\n",
        "import seaborn as sns\n",
        "\n",
        "%matplotlib inline"
      ],
      "execution_count": null,
      "outputs": []
    },
    {
      "cell_type": "code",
      "metadata": {
        "id": "J7TmzHHLShCV"
      },
      "source": [
        "df = pd.read_csv('otomoto_price_prediction_data.csv')  #Importing the CSV file."
      ],
      "execution_count": null,
      "outputs": []
    },
    {
      "cell_type": "code",
      "metadata": {
        "colab": {
          "base_uri": "https://localhost:8080/"
        },
        "id": "vLa_oEwIShCX",
        "outputId": "07a042c0-81ac-4278-b3ef-ffc0ee836fa4"
      },
      "source": [
        "df"
      ],
      "execution_count": null,
      "outputs": [
        {
          "output_type": "execute_result",
          "data": {
            "text/html": [
              "<div>\n",
              "<style scoped>\n",
              "    .dataframe tbody tr th:only-of-type {\n",
              "        vertical-align: middle;\n",
              "    }\n",
              "\n",
              "    .dataframe tbody tr th {\n",
              "        vertical-align: top;\n",
              "    }\n",
              "\n",
              "    .dataframe thead th {\n",
              "        text-align: right;\n",
              "    }\n",
              "</style>\n",
              "<table border=\"1\" class=\"dataframe\">\n",
              "  <thead>\n",
              "    <tr style=\"text-align: right;\">\n",
              "      <th></th>\n",
              "      <th>make</th>\n",
              "      <th>model</th>\n",
              "      <th>vehicle_year</th>\n",
              "      <th>mileage</th>\n",
              "      <th>engine_capacity</th>\n",
              "      <th>engine_power</th>\n",
              "      <th>gearbox</th>\n",
              "      <th>fuel_type</th>\n",
              "      <th>damaged</th>\n",
              "      <th>is_business</th>\n",
              "      <th>target_price</th>\n",
              "    </tr>\n",
              "  </thead>\n",
              "  <tbody>\n",
              "    <tr>\n",
              "      <th>0</th>\n",
              "      <td>audi</td>\n",
              "      <td>a6</td>\n",
              "      <td>2013</td>\n",
              "      <td>153817.0</td>\n",
              "      <td>1984.0</td>\n",
              "      <td>180.0</td>\n",
              "      <td>automatic</td>\n",
              "      <td>petrol</td>\n",
              "      <td>0</td>\n",
              "      <td>0</td>\n",
              "      <td>69900.0</td>\n",
              "    </tr>\n",
              "    <tr>\n",
              "      <th>1</th>\n",
              "      <td>skoda</td>\n",
              "      <td>fabia</td>\n",
              "      <td>2004</td>\n",
              "      <td>115000.0</td>\n",
              "      <td>1390.0</td>\n",
              "      <td>75.0</td>\n",
              "      <td>manual</td>\n",
              "      <td>petrol</td>\n",
              "      <td>0</td>\n",
              "      <td>1</td>\n",
              "      <td>8299.0</td>\n",
              "    </tr>\n",
              "    <tr>\n",
              "      <th>2</th>\n",
              "      <td>chevrolet</td>\n",
              "      <td>camaro</td>\n",
              "      <td>2012</td>\n",
              "      <td>299000.0</td>\n",
              "      <td>3600.0</td>\n",
              "      <td>323.0</td>\n",
              "      <td>automatic</td>\n",
              "      <td>petrol</td>\n",
              "      <td>0</td>\n",
              "      <td>1</td>\n",
              "      <td>54500.0</td>\n",
              "    </tr>\n",
              "    <tr>\n",
              "      <th>3</th>\n",
              "      <td>bmw</td>\n",
              "      <td>seria-3</td>\n",
              "      <td>2013</td>\n",
              "      <td>155000.0</td>\n",
              "      <td>1995.0</td>\n",
              "      <td>163.0</td>\n",
              "      <td>automatic</td>\n",
              "      <td>diesel</td>\n",
              "      <td>0</td>\n",
              "      <td>0</td>\n",
              "      <td>62000.0</td>\n",
              "    </tr>\n",
              "    <tr>\n",
              "      <th>4</th>\n",
              "      <td>renault</td>\n",
              "      <td>talisman</td>\n",
              "      <td>2017</td>\n",
              "      <td>167000.0</td>\n",
              "      <td>1600.0</td>\n",
              "      <td>130.0</td>\n",
              "      <td>automatic</td>\n",
              "      <td>diesel</td>\n",
              "      <td>0</td>\n",
              "      <td>1</td>\n",
              "      <td>52999.0</td>\n",
              "    </tr>\n",
              "    <tr>\n",
              "      <th>...</th>\n",
              "      <td>...</td>\n",
              "      <td>...</td>\n",
              "      <td>...</td>\n",
              "      <td>...</td>\n",
              "      <td>...</td>\n",
              "      <td>...</td>\n",
              "      <td>...</td>\n",
              "      <td>...</td>\n",
              "      <td>...</td>\n",
              "      <td>...</td>\n",
              "      <td>...</td>\n",
              "    </tr>\n",
              "    <tr>\n",
              "      <th>206202</th>\n",
              "      <td>mercedes-benz</td>\n",
              "      <td>klasa-b</td>\n",
              "      <td>2018</td>\n",
              "      <td>18000.0</td>\n",
              "      <td>1991.0</td>\n",
              "      <td>211.0</td>\n",
              "      <td>automatic</td>\n",
              "      <td>petrol</td>\n",
              "      <td>0</td>\n",
              "      <td>1</td>\n",
              "      <td>89900.0</td>\n",
              "    </tr>\n",
              "    <tr>\n",
              "      <th>206203</th>\n",
              "      <td>honda</td>\n",
              "      <td>jazz</td>\n",
              "      <td>2020</td>\n",
              "      <td>2700.0</td>\n",
              "      <td>1498.0</td>\n",
              "      <td>97.0</td>\n",
              "      <td>automatic</td>\n",
              "      <td>hybrid</td>\n",
              "      <td>0</td>\n",
              "      <td>1</td>\n",
              "      <td>94900.0</td>\n",
              "    </tr>\n",
              "    <tr>\n",
              "      <th>206204</th>\n",
              "      <td>mitsubishi</td>\n",
              "      <td>l200</td>\n",
              "      <td>2015</td>\n",
              "      <td>225000.0</td>\n",
              "      <td>2477.0</td>\n",
              "      <td>178.0</td>\n",
              "      <td>manual</td>\n",
              "      <td>diesel</td>\n",
              "      <td>0</td>\n",
              "      <td>1</td>\n",
              "      <td>69900.0</td>\n",
              "    </tr>\n",
              "    <tr>\n",
              "      <th>206205</th>\n",
              "      <td>volkswagen</td>\n",
              "      <td>transporter</td>\n",
              "      <td>2006</td>\n",
              "      <td>232000.0</td>\n",
              "      <td>1900.0</td>\n",
              "      <td>105.0</td>\n",
              "      <td>manual</td>\n",
              "      <td>diesel</td>\n",
              "      <td>0</td>\n",
              "      <td>0</td>\n",
              "      <td>29900.0</td>\n",
              "    </tr>\n",
              "    <tr>\n",
              "      <th>206206</th>\n",
              "      <td>volkswagen</td>\n",
              "      <td>passat</td>\n",
              "      <td>2012</td>\n",
              "      <td>204000.0</td>\n",
              "      <td>1968.0</td>\n",
              "      <td>140.0</td>\n",
              "      <td>manual</td>\n",
              "      <td>diesel</td>\n",
              "      <td>0</td>\n",
              "      <td>1</td>\n",
              "      <td>30900.0</td>\n",
              "    </tr>\n",
              "  </tbody>\n",
              "</table>\n",
              "<p>206207 rows × 11 columns</p>\n",
              "</div>"
            ],
            "text/plain": [
              "                 make        model  ...  is_business  target_price\n",
              "0                audi           a6  ...            0       69900.0\n",
              "1               skoda        fabia  ...            1        8299.0\n",
              "2           chevrolet       camaro  ...            1       54500.0\n",
              "3                 bmw      seria-3  ...            0       62000.0\n",
              "4             renault     talisman  ...            1       52999.0\n",
              "...               ...          ...  ...          ...           ...\n",
              "206202  mercedes-benz      klasa-b  ...            1       89900.0\n",
              "206203          honda         jazz  ...            1       94900.0\n",
              "206204     mitsubishi         l200  ...            1       69900.0\n",
              "206205     volkswagen  transporter  ...            0       29900.0\n",
              "206206     volkswagen       passat  ...            1       30900.0\n",
              "\n",
              "[206207 rows x 11 columns]"
            ]
          },
          "metadata": {
            "tags": []
          },
          "execution_count": 3
        }
      ]
    },
    {
      "cell_type": "markdown",
      "metadata": {
        "id": "jGSsIBXIiBp7"
      },
      "source": [
        "# **Basic Pre-Processing**"
      ]
    },
    {
      "cell_type": "code",
      "metadata": {
        "colab": {
          "base_uri": "https://localhost:8080/"
        },
        "id": "7eLcWMX3ShCY",
        "outputId": "8f8172b5-6f5a-4cb2-e187-b767ad9d79b0"
      },
      "source": [
        "df['fuel_type'].unique()  #Check for various fuel types."
      ],
      "execution_count": null,
      "outputs": [
        {
          "output_type": "execute_result",
          "data": {
            "text/plain": [
              "array(['petrol', 'diesel', 'petrol-lpg', 'hybrid', 'petrol-cng',\n",
              "       'electric', 'etanol'], dtype=object)"
            ]
          },
          "metadata": {
            "tags": []
          },
          "execution_count": 4
        }
      ]
    },
    {
      "cell_type": "code",
      "metadata": {
        "id": "QKyyKaVlShCZ"
      },
      "source": [
        "#Check for various gearbox types and replace them with machine readable form.\n",
        "\n",
        "df['gearbox'] = df['gearbox'].replace(['automatic','manual','cvt','dual-clutch','automatic-stepless','semi-automatic','automated-manual','automatic-sequential','automatic-stepless-sequential','manual-sequential'],[0,1,2,3,4,5,6,7,8,9]) # Label encode the gearbox column. 0: Automatic, 1: Manual"
      ],
      "execution_count": null,
      "outputs": []
    },
    {
      "cell_type": "code",
      "metadata": {
        "id": "8bBMX8NVShCa"
      },
      "source": [
        "df['fuel_type'] = df['fuel_type'].replace(['petrol','diesel','petrol-lpg','hybrid','petrol-cng','electric','etanol'],[0,1,2,3,4,5,6])"
      ],
      "execution_count": null,
      "outputs": []
    },
    {
      "cell_type": "code",
      "metadata": {
        "colab": {
          "base_uri": "https://localhost:8080/"
        },
        "id": "mkuAkCq8ShCc",
        "outputId": "59d81984-c955-49ba-e890-99627a4423a8"
      },
      "source": [
        "df"
      ],
      "execution_count": null,
      "outputs": [
        {
          "output_type": "execute_result",
          "data": {
            "text/html": [
              "<div>\n",
              "<style scoped>\n",
              "    .dataframe tbody tr th:only-of-type {\n",
              "        vertical-align: middle;\n",
              "    }\n",
              "\n",
              "    .dataframe tbody tr th {\n",
              "        vertical-align: top;\n",
              "    }\n",
              "\n",
              "    .dataframe thead th {\n",
              "        text-align: right;\n",
              "    }\n",
              "</style>\n",
              "<table border=\"1\" class=\"dataframe\">\n",
              "  <thead>\n",
              "    <tr style=\"text-align: right;\">\n",
              "      <th></th>\n",
              "      <th>make</th>\n",
              "      <th>model</th>\n",
              "      <th>vehicle_year</th>\n",
              "      <th>mileage</th>\n",
              "      <th>engine_capacity</th>\n",
              "      <th>engine_power</th>\n",
              "      <th>gearbox</th>\n",
              "      <th>fuel_type</th>\n",
              "      <th>damaged</th>\n",
              "      <th>is_business</th>\n",
              "      <th>target_price</th>\n",
              "    </tr>\n",
              "  </thead>\n",
              "  <tbody>\n",
              "    <tr>\n",
              "      <th>0</th>\n",
              "      <td>audi</td>\n",
              "      <td>a6</td>\n",
              "      <td>2013</td>\n",
              "      <td>153817.0</td>\n",
              "      <td>1984.0</td>\n",
              "      <td>180.0</td>\n",
              "      <td>0.0</td>\n",
              "      <td>0</td>\n",
              "      <td>0</td>\n",
              "      <td>0</td>\n",
              "      <td>69900.0</td>\n",
              "    </tr>\n",
              "    <tr>\n",
              "      <th>1</th>\n",
              "      <td>skoda</td>\n",
              "      <td>fabia</td>\n",
              "      <td>2004</td>\n",
              "      <td>115000.0</td>\n",
              "      <td>1390.0</td>\n",
              "      <td>75.0</td>\n",
              "      <td>1.0</td>\n",
              "      <td>0</td>\n",
              "      <td>0</td>\n",
              "      <td>1</td>\n",
              "      <td>8299.0</td>\n",
              "    </tr>\n",
              "    <tr>\n",
              "      <th>2</th>\n",
              "      <td>chevrolet</td>\n",
              "      <td>camaro</td>\n",
              "      <td>2012</td>\n",
              "      <td>299000.0</td>\n",
              "      <td>3600.0</td>\n",
              "      <td>323.0</td>\n",
              "      <td>0.0</td>\n",
              "      <td>0</td>\n",
              "      <td>0</td>\n",
              "      <td>1</td>\n",
              "      <td>54500.0</td>\n",
              "    </tr>\n",
              "    <tr>\n",
              "      <th>3</th>\n",
              "      <td>bmw</td>\n",
              "      <td>seria-3</td>\n",
              "      <td>2013</td>\n",
              "      <td>155000.0</td>\n",
              "      <td>1995.0</td>\n",
              "      <td>163.0</td>\n",
              "      <td>0.0</td>\n",
              "      <td>1</td>\n",
              "      <td>0</td>\n",
              "      <td>0</td>\n",
              "      <td>62000.0</td>\n",
              "    </tr>\n",
              "    <tr>\n",
              "      <th>4</th>\n",
              "      <td>renault</td>\n",
              "      <td>talisman</td>\n",
              "      <td>2017</td>\n",
              "      <td>167000.0</td>\n",
              "      <td>1600.0</td>\n",
              "      <td>130.0</td>\n",
              "      <td>0.0</td>\n",
              "      <td>1</td>\n",
              "      <td>0</td>\n",
              "      <td>1</td>\n",
              "      <td>52999.0</td>\n",
              "    </tr>\n",
              "    <tr>\n",
              "      <th>...</th>\n",
              "      <td>...</td>\n",
              "      <td>...</td>\n",
              "      <td>...</td>\n",
              "      <td>...</td>\n",
              "      <td>...</td>\n",
              "      <td>...</td>\n",
              "      <td>...</td>\n",
              "      <td>...</td>\n",
              "      <td>...</td>\n",
              "      <td>...</td>\n",
              "      <td>...</td>\n",
              "    </tr>\n",
              "    <tr>\n",
              "      <th>206202</th>\n",
              "      <td>mercedes-benz</td>\n",
              "      <td>klasa-b</td>\n",
              "      <td>2018</td>\n",
              "      <td>18000.0</td>\n",
              "      <td>1991.0</td>\n",
              "      <td>211.0</td>\n",
              "      <td>0.0</td>\n",
              "      <td>0</td>\n",
              "      <td>0</td>\n",
              "      <td>1</td>\n",
              "      <td>89900.0</td>\n",
              "    </tr>\n",
              "    <tr>\n",
              "      <th>206203</th>\n",
              "      <td>honda</td>\n",
              "      <td>jazz</td>\n",
              "      <td>2020</td>\n",
              "      <td>2700.0</td>\n",
              "      <td>1498.0</td>\n",
              "      <td>97.0</td>\n",
              "      <td>0.0</td>\n",
              "      <td>3</td>\n",
              "      <td>0</td>\n",
              "      <td>1</td>\n",
              "      <td>94900.0</td>\n",
              "    </tr>\n",
              "    <tr>\n",
              "      <th>206204</th>\n",
              "      <td>mitsubishi</td>\n",
              "      <td>l200</td>\n",
              "      <td>2015</td>\n",
              "      <td>225000.0</td>\n",
              "      <td>2477.0</td>\n",
              "      <td>178.0</td>\n",
              "      <td>1.0</td>\n",
              "      <td>1</td>\n",
              "      <td>0</td>\n",
              "      <td>1</td>\n",
              "      <td>69900.0</td>\n",
              "    </tr>\n",
              "    <tr>\n",
              "      <th>206205</th>\n",
              "      <td>volkswagen</td>\n",
              "      <td>transporter</td>\n",
              "      <td>2006</td>\n",
              "      <td>232000.0</td>\n",
              "      <td>1900.0</td>\n",
              "      <td>105.0</td>\n",
              "      <td>1.0</td>\n",
              "      <td>1</td>\n",
              "      <td>0</td>\n",
              "      <td>0</td>\n",
              "      <td>29900.0</td>\n",
              "    </tr>\n",
              "    <tr>\n",
              "      <th>206206</th>\n",
              "      <td>volkswagen</td>\n",
              "      <td>passat</td>\n",
              "      <td>2012</td>\n",
              "      <td>204000.0</td>\n",
              "      <td>1968.0</td>\n",
              "      <td>140.0</td>\n",
              "      <td>1.0</td>\n",
              "      <td>1</td>\n",
              "      <td>0</td>\n",
              "      <td>1</td>\n",
              "      <td>30900.0</td>\n",
              "    </tr>\n",
              "  </tbody>\n",
              "</table>\n",
              "<p>206207 rows × 11 columns</p>\n",
              "</div>"
            ],
            "text/plain": [
              "                 make        model  ...  is_business  target_price\n",
              "0                audi           a6  ...            0       69900.0\n",
              "1               skoda        fabia  ...            1        8299.0\n",
              "2           chevrolet       camaro  ...            1       54500.0\n",
              "3                 bmw      seria-3  ...            0       62000.0\n",
              "4             renault     talisman  ...            1       52999.0\n",
              "...               ...          ...  ...          ...           ...\n",
              "206202  mercedes-benz      klasa-b  ...            1       89900.0\n",
              "206203          honda         jazz  ...            1       94900.0\n",
              "206204     mitsubishi         l200  ...            1       69900.0\n",
              "206205     volkswagen  transporter  ...            0       29900.0\n",
              "206206     volkswagen       passat  ...            1       30900.0\n",
              "\n",
              "[206207 rows x 11 columns]"
            ]
          },
          "metadata": {
            "tags": []
          },
          "execution_count": 7
        }
      ]
    },
    {
      "cell_type": "code",
      "metadata": {
        "colab": {
          "base_uri": "https://localhost:8080/"
        },
        "id": "bckJtO0cShCd",
        "outputId": "6c4604ff-0b00-4b60-8caf-d0564f106173"
      },
      "source": [
        "df.isna().sum()  #Total number of missing values across each column.\n",
        "\n",
        "percent_missing = df.isnull().sum() * 100 / len(df) #Total percentage of missing values.\n",
        "percent_missing  #Since very less amount of data is missing across the whole dataframe, we can afford to drop them."
      ],
      "execution_count": null,
      "outputs": [
        {
          "output_type": "execute_result",
          "data": {
            "text/plain": [
              "make               0.000000\n",
              "model              0.000000\n",
              "vehicle_year       0.000000\n",
              "mileage            0.656622\n",
              "engine_capacity    1.056220\n",
              "engine_power       0.765735\n",
              "gearbox            0.661956\n",
              "fuel_type          0.000000\n",
              "damaged            0.000000\n",
              "is_business        0.000000\n",
              "target_price       0.000000\n",
              "dtype: float64"
            ]
          },
          "metadata": {
            "tags": []
          },
          "execution_count": 8
        }
      ]
    },
    {
      "cell_type": "code",
      "metadata": {
        "colab": {
          "base_uri": "https://localhost:8080/"
        },
        "id": "myXfnExeShCf",
        "outputId": "33ee781e-e46a-4835-f279-8a796a30a56a"
      },
      "source": [
        "sns.heatmap(df.isnull(), cbar=False)\n",
        "\n",
        "#This graphs helps us to visualize the locations of the various missing va values across all the columns. As we can probably see mileage has all the missing values in the middle of the column whereas engine_capacity,engine_power have na values spread across the respective columns. "
      ],
      "execution_count": null,
      "outputs": [
        {
          "output_type": "execute_result",
          "data": {
            "text/plain": [
              "<matplotlib.axes._subplots.AxesSubplot at 0x7f90316012d0>"
            ]
          },
          "metadata": {
            "tags": []
          },
          "execution_count": 9
        },
        {
          "output_type": "display_data",
          "data": {
            "image/png": "[encoded data removed]",
            "text/plain": [
              "<Figure size 432x288 with 1 Axes>"
            ]
          },
          "metadata": {
            "tags": [],
            "needs_background": "light"
          }
        }
      ]
    },
    {
      "cell_type": "code",
      "metadata": {
        "id": "2CQSdfiDShCh"
      },
      "source": [
        "#Alternate method.\n",
        "\n",
        "#Fill the na values\n",
        "\n",
        "df_mean = df['mileage'].fillna(df['mileage'].mean()) #filling in the mileage with average values\n",
        "df_engine_capacity = df['engine_capacity'].fillna(df['engine_capacity'].mean()) #filling in the engine capacity with average values\n",
        "df_engine_power = df['engine_power'].fillna(df['engine_power'].mean()) #filling in the engine power with average values\n",
        "df_gearbox = df['gearbox'].fillna(df['gearbox'].mode()) #filling in the gearbox with most occuring value"
      ],
      "execution_count": null,
      "outputs": []
    },
    {
      "cell_type": "code",
      "metadata": {
        "id": "xO8OtCLkShCi"
      },
      "source": [
        "df2_na_removed = df.dropna(axis='rows') #Dropping the na values altogether"
      ],
      "execution_count": null,
      "outputs": []
    },
    {
      "cell_type": "code",
      "metadata": {
        "colab": {
          "base_uri": "https://localhost:8080/"
        },
        "id": "mOaJkqlaShCj",
        "outputId": "3c0bd29a-2e0c-4afc-c8e7-26329da7701d"
      },
      "source": [
        "df2_na_removed.isna().sum()"
      ],
      "execution_count": null,
      "outputs": [
        {
          "output_type": "execute_result",
          "data": {
            "text/plain": [
              "make               0\n",
              "model              0\n",
              "vehicle_year       0\n",
              "mileage            0\n",
              "engine_capacity    0\n",
              "engine_power       0\n",
              "gearbox            0\n",
              "fuel_type          0\n",
              "damaged            0\n",
              "is_business        0\n",
              "target_price       0\n",
              "dtype: int64"
            ]
          },
          "metadata": {
            "tags": []
          },
          "execution_count": 12
        }
      ]
    },
    {
      "cell_type": "code",
      "metadata": {
        "colab": {
          "base_uri": "https://localhost:8080/"
        },
        "id": "k9QoUOugShCk",
        "outputId": "e3d3c74d-bf66-43cd-ef8b-a2a2f36fc3b5"
      },
      "source": [
        "sns.heatmap(df2_na_removed.isnull(), cbar=False)\n",
        "\n",
        "#No missing values"
      ],
      "execution_count": null,
      "outputs": [
        {
          "output_type": "execute_result",
          "data": {
            "text/plain": [
              "<matplotlib.axes._subplots.AxesSubplot at 0x7f902806f150>"
            ]
          },
          "metadata": {
            "tags": []
          },
          "execution_count": 13
        },
        {
          "output_type": "display_data",
          "data": {
            "image/png": "[encoded data removed]",
            "text/plain": [
              "<Figure size 432x288 with 1 Axes>"
            ]
          },
          "metadata": {
            "tags": [],
            "needs_background": "light"
          }
        }
      ]
    },
    {
      "cell_type": "code",
      "metadata": {
        "colab": {
          "base_uri": "https://localhost:8080/"
        },
        "id": "b0lxg6ZGShCl",
        "outputId": "25adbdbc-b845-4376-ea4c-08894803522e"
      },
      "source": [
        "df2_na_removed"
      ],
      "execution_count": null,
      "outputs": [
        {
          "output_type": "execute_result",
          "data": {
            "text/html": [
              "<div>\n",
              "<style scoped>\n",
              "    .dataframe tbody tr th:only-of-type {\n",
              "        vertical-align: middle;\n",
              "    }\n",
              "\n",
              "    .dataframe tbody tr th {\n",
              "        vertical-align: top;\n",
              "    }\n",
              "\n",
              "    .dataframe thead th {\n",
              "        text-align: right;\n",
              "    }\n",
              "</style>\n",
              "<table border=\"1\" class=\"dataframe\">\n",
              "  <thead>\n",
              "    <tr style=\"text-align: right;\">\n",
              "      <th></th>\n",
              "      <th>make</th>\n",
              "      <th>model</th>\n",
              "      <th>vehicle_year</th>\n",
              "      <th>mileage</th>\n",
              "      <th>engine_capacity</th>\n",
              "      <th>engine_power</th>\n",
              "      <th>gearbox</th>\n",
              "      <th>fuel_type</th>\n",
              "      <th>damaged</th>\n",
              "      <th>is_business</th>\n",
              "      <th>target_price</th>\n",
              "    </tr>\n",
              "  </thead>\n",
              "  <tbody>\n",
              "    <tr>\n",
              "      <th>0</th>\n",
              "      <td>audi</td>\n",
              "      <td>a6</td>\n",
              "      <td>2013</td>\n",
              "      <td>153817.0</td>\n",
              "      <td>1984.0</td>\n",
              "      <td>180.0</td>\n",
              "      <td>0.0</td>\n",
              "      <td>0</td>\n",
              "      <td>0</td>\n",
              "      <td>0</td>\n",
              "      <td>69900.0</td>\n",
              "    </tr>\n",
              "    <tr>\n",
              "      <th>1</th>\n",
              "      <td>skoda</td>\n",
              "      <td>fabia</td>\n",
              "      <td>2004</td>\n",
              "      <td>115000.0</td>\n",
              "      <td>1390.0</td>\n",
              "      <td>75.0</td>\n",
              "      <td>1.0</td>\n",
              "      <td>0</td>\n",
              "      <td>0</td>\n",
              "      <td>1</td>\n",
              "      <td>8299.0</td>\n",
              "    </tr>\n",
              "    <tr>\n",
              "      <th>2</th>\n",
              "      <td>chevrolet</td>\n",
              "      <td>camaro</td>\n",
              "      <td>2012</td>\n",
              "      <td>299000.0</td>\n",
              "      <td>3600.0</td>\n",
              "      <td>323.0</td>\n",
              "      <td>0.0</td>\n",
              "      <td>0</td>\n",
              "      <td>0</td>\n",
              "      <td>1</td>\n",
              "      <td>54500.0</td>\n",
              "    </tr>\n",
              "    <tr>\n",
              "      <th>3</th>\n",
              "      <td>bmw</td>\n",
              "      <td>seria-3</td>\n",
              "      <td>2013</td>\n",
              "      <td>155000.0</td>\n",
              "      <td>1995.0</td>\n",
              "      <td>163.0</td>\n",
              "      <td>0.0</td>\n",
              "      <td>1</td>\n",
              "      <td>0</td>\n",
              "      <td>0</td>\n",
              "      <td>62000.0</td>\n",
              "    </tr>\n",
              "    <tr>\n",
              "      <th>4</th>\n",
              "      <td>renault</td>\n",
              "      <td>talisman</td>\n",
              "      <td>2017</td>\n",
              "      <td>167000.0</td>\n",
              "      <td>1600.0</td>\n",
              "      <td>130.0</td>\n",
              "      <td>0.0</td>\n",
              "      <td>1</td>\n",
              "      <td>0</td>\n",
              "      <td>1</td>\n",
              "      <td>52999.0</td>\n",
              "    </tr>\n",
              "    <tr>\n",
              "      <th>...</th>\n",
              "      <td>...</td>\n",
              "      <td>...</td>\n",
              "      <td>...</td>\n",
              "      <td>...</td>\n",
              "      <td>...</td>\n",
              "      <td>...</td>\n",
              "      <td>...</td>\n",
              "      <td>...</td>\n",
              "      <td>...</td>\n",
              "      <td>...</td>\n",
              "      <td>...</td>\n",
              "    </tr>\n",
              "    <tr>\n",
              "      <th>206202</th>\n",
              "      <td>mercedes-benz</td>\n",
              "      <td>klasa-b</td>\n",
              "      <td>2018</td>\n",
              "      <td>18000.0</td>\n",
              "      <td>1991.0</td>\n",
              "      <td>211.0</td>\n",
              "      <td>0.0</td>\n",
              "      <td>0</td>\n",
              "      <td>0</td>\n",
              "      <td>1</td>\n",
              "      <td>89900.0</td>\n",
              "    </tr>\n",
              "    <tr>\n",
              "      <th>206203</th>\n",
              "      <td>honda</td>\n",
              "      <td>jazz</td>\n",
              "      <td>2020</td>\n",
              "      <td>2700.0</td>\n",
              "      <td>1498.0</td>\n",
              "      <td>97.0</td>\n",
              "      <td>0.0</td>\n",
              "      <td>3</td>\n",
              "      <td>0</td>\n",
              "      <td>1</td>\n",
              "      <td>94900.0</td>\n",
              "    </tr>\n",
              "    <tr>\n",
              "      <th>206204</th>\n",
              "      <td>mitsubishi</td>\n",
              "      <td>l200</td>\n",
              "      <td>2015</td>\n",
              "      <td>225000.0</td>\n",
              "      <td>2477.0</td>\n",
              "      <td>178.0</td>\n",
              "      <td>1.0</td>\n",
              "      <td>1</td>\n",
              "      <td>0</td>\n",
              "      <td>1</td>\n",
              "      <td>69900.0</td>\n",
              "    </tr>\n",
              "    <tr>\n",
              "      <th>206205</th>\n",
              "      <td>volkswagen</td>\n",
              "      <td>transporter</td>\n",
              "      <td>2006</td>\n",
              "      <td>232000.0</td>\n",
              "      <td>1900.0</td>\n",
              "      <td>105.0</td>\n",
              "      <td>1.0</td>\n",
              "      <td>1</td>\n",
              "      <td>0</td>\n",
              "      <td>0</td>\n",
              "      <td>29900.0</td>\n",
              "    </tr>\n",
              "    <tr>\n",
              "      <th>206206</th>\n",
              "      <td>volkswagen</td>\n",
              "      <td>passat</td>\n",
              "      <td>2012</td>\n",
              "      <td>204000.0</td>\n",
              "      <td>1968.0</td>\n",
              "      <td>140.0</td>\n",
              "      <td>1.0</td>\n",
              "      <td>1</td>\n",
              "      <td>0</td>\n",
              "      <td>1</td>\n",
              "      <td>30900.0</td>\n",
              "    </tr>\n",
              "  </tbody>\n",
              "</table>\n",
              "<p>201971 rows × 11 columns</p>\n",
              "</div>"
            ],
            "text/plain": [
              "                 make        model  ...  is_business  target_price\n",
              "0                audi           a6  ...            0       69900.0\n",
              "1               skoda        fabia  ...            1        8299.0\n",
              "2           chevrolet       camaro  ...            1       54500.0\n",
              "3                 bmw      seria-3  ...            0       62000.0\n",
              "4             renault     talisman  ...            1       52999.0\n",
              "...               ...          ...  ...          ...           ...\n",
              "206202  mercedes-benz      klasa-b  ...            1       89900.0\n",
              "206203          honda         jazz  ...            1       94900.0\n",
              "206204     mitsubishi         l200  ...            1       69900.0\n",
              "206205     volkswagen  transporter  ...            0       29900.0\n",
              "206206     volkswagen       passat  ...            1       30900.0\n",
              "\n",
              "[201971 rows x 11 columns]"
            ]
          },
          "metadata": {
            "tags": []
          },
          "execution_count": 14
        }
      ]
    },
    {
      "cell_type": "code",
      "metadata": {
        "colab": {
          "base_uri": "https://localhost:8080/"
        },
        "id": "Lbs6epsQm0z0",
        "outputId": "590a17e4-5cff-47be-d79a-5a65068ca42b"
      },
      "source": [
        "df2_na_removed['gearbox'].dtype"
      ],
      "execution_count": null,
      "outputs": [
        {
          "output_type": "execute_result",
          "data": {
            "text/plain": [
              "dtype('float64')"
            ]
          },
          "metadata": {
            "tags": []
          },
          "execution_count": 15
        }
      ]
    },
    {
      "cell_type": "code",
      "metadata": {
        "colab": {
          "base_uri": "https://localhost:8080/"
        },
        "id": "omncg0axnql8",
        "outputId": "67f39598-786c-4dc7-d4cf-b197585f6b33"
      },
      "source": [
        "df2_na_removed['gearbox'] = df2_na_removed['gearbox'].astype(np.int64)  #Convert Gearbox column into int64 datatype."
      ],
      "execution_count": null,
      "outputs": [
        {
          "output_type": "stream",
          "text": [
            "/usr/local/lib/python3.7/dist-packages/ipykernel_launcher.py:1: SettingWithCopyWarning: \n",
            "A value is trying to be set on a copy of a slice from a DataFrame.\n",
            "Try using .loc[row_indexer,col_indexer] = value instead\n",
            "\n",
            "See the caveats in the documentation: https://pandas.pydata.org/pandas-docs/stable/user_guide/indexing.html#returning-a-view-versus-a-copy\n",
            "  \"\"\"Entry point for launching an IPython kernel.\n"
          ],
          "name": "stderr"
        }
      ]
    },
    {
      "cell_type": "code",
      "metadata": {
        "colab": {
          "base_uri": "https://localhost:8080/"
        },
        "id": "DZX3c4SKnzkG",
        "outputId": "a3528723-61c4-4d5d-fe46-488ff1ed1c06"
      },
      "source": [
        "df2_na_removed['gearbox'].dtype\n",
        "\n",
        "df2_na_removed['gearbox'].unique()"
      ],
      "execution_count": null,
      "outputs": [
        {
          "output_type": "execute_result",
          "data": {
            "text/plain": [
              "array([0, 1, 2, 3, 4, 5, 6, 7, 8, 9])"
            ]
          },
          "metadata": {
            "tags": []
          },
          "execution_count": 17
        }
      ]
    },
    {
      "cell_type": "code",
      "metadata": {
        "colab": {
          "base_uri": "https://localhost:8080/"
        },
        "id": "7Eq97tGjShCm",
        "outputId": "f0cdf030-b056-491b-f672-c39f850ffebb"
      },
      "source": [
        "make = df2_na_removed['make'].nunique()\n",
        "print(make)\n",
        "\n",
        "model = df2_na_removed['model'].nunique()\n",
        "print(model)\n",
        "\n",
        "#Due to high number of unrelated distinct values, we cannot take into consideration the first 2 values while performing a modelling procedure, although it should play a big part and as such create a tier of a group of cars with high to low brand value, same with model too"
      ],
      "execution_count": null,
      "outputs": [
        {
          "output_type": "stream",
          "text": [
            "106\n",
            "1146\n"
          ],
          "name": "stdout"
        }
      ]
    },
    {
      "cell_type": "markdown",
      "metadata": {
        "id": "-ZPS6IFRiSkZ"
      },
      "source": [
        "# **Exploratory Data Analysis**"
      ]
    },
    {
      "cell_type": "code",
      "metadata": {
        "colab": {
          "base_uri": "https://localhost:8080/"
        },
        "id": "391mVZ8OFodn",
        "outputId": "5478c0a7-568e-4c94-80b3-6df3e86a5d43"
      },
      "source": [
        "df2_na_removed['damaged'].value_counts().plot(kind='bar',color ='grey')  #1: Vehicle is damaged ; 2: Vehicle is not damaged\n",
        "plt.xlabel(\"Damaged\", labelpad=14)"
      ],
      "execution_count": null,
      "outputs": [
        {
          "output_type": "execute_result",
          "data": {
            "text/plain": [
              "Text(0.5, 0, 'Damaged')"
            ]
          },
          "metadata": {
            "tags": []
          },
          "execution_count": 19
        },
        {
          "output_type": "display_data",
          "data": {
            "image/png": "[encoded data removed]",
            "text/plain": [
              "<Figure size 432x288 with 1 Axes>"
            ]
          },
          "metadata": {
            "tags": [],
            "needs_background": "light"
          }
        }
      ]
    },
    {
      "cell_type": "code",
      "metadata": {
        "colab": {
          "base_uri": "https://localhost:8080/"
        },
        "id": "YPTYIbm6GpLp",
        "outputId": "2b4cc1c5-8c10-4108-b208-d958089a95c6"
      },
      "source": [
        "df2_na_removed['is_business'].value_counts().plot(kind='bar',color ='green')  #1:Business; 2: Individual\n",
        "plt.xlabel(\"is_business\", labelpad=14)"
      ],
      "execution_count": null,
      "outputs": [
        {
          "output_type": "execute_result",
          "data": {
            "text/plain": [
              "Text(0.5, 0, 'is_business')"
            ]
          },
          "metadata": {
            "tags": []
          },
          "execution_count": 20
        },
        {
          "output_type": "display_data",
          "data": {
            "image/png": "[encoded data removed]",
            "text/plain": [
              "<Figure size 432x288 with 1 Axes>"
            ]
          },
          "metadata": {
            "tags": [],
            "needs_background": "light"
          }
        }
      ]
    },
    {
      "cell_type": "code",
      "metadata": {
        "colab": {
          "base_uri": "https://localhost:8080/"
        },
        "id": "18rMWMoCJTV6",
        "outputId": "d60803b3-a640-4b4f-a92c-544e099358d6"
      },
      "source": [
        "#Highly imbalanced, if a few models would have been there, we could have label encoded this column.\n",
        "\n",
        "\n",
        "df2_na_removed['model'].value_counts().plot(kind='bar',color ='red') \n",
        "plt.xlabel(\"model\")"
      ],
      "execution_count": null,
      "outputs": [
        {
          "output_type": "execute_result",
          "data": {
            "text/plain": [
              "Text(0.5, 0, 'model')"
            ]
          },
          "metadata": {
            "tags": []
          },
          "execution_count": 21
        },
        {
          "output_type": "display_data",
          "data": {
            "image/png": "[encoded data removed]",
            "text/plain": [
              "<Figure size 432x288 with 1 Axes>"
            ]
          },
          "metadata": {
            "tags": [],
            "needs_background": "light"
          }
        }
      ]
    },
    {
      "cell_type": "code",
      "metadata": {
        "colab": {
          "base_uri": "https://localhost:8080/"
        },
        "id": "KwuU39HCLOrL",
        "outputId": "5ae6a923-9dc3-4a6a-9a4d-931745ced4e6"
      },
      "source": [
        "#Highly imbalanced, if a few manufacturers would have been there, we could have label encoded this column.\n",
        "\n",
        "df2_na_removed['make'].value_counts().plot(kind='barh')  \n",
        "plt.xlabel(\"make\", labelpad=14)"
      ],
      "execution_count": null,
      "outputs": [
        {
          "output_type": "execute_result",
          "data": {
            "text/plain": [
              "Text(0.5, 0, 'make')"
            ]
          },
          "metadata": {
            "tags": []
          },
          "execution_count": 22
        },
        {
          "output_type": "display_data",
          "data": {
            "image/png": "[encoded data removed]",
            "text/plain": [
              "<Figure size 432x288 with 1 Axes>"
            ]
          },
          "metadata": {
            "tags": [],
            "needs_background": "light"
          }
        }
      ]
    },
    {
      "cell_type": "code",
      "metadata": {
        "colab": {
          "base_uri": "https://localhost:8080/"
        },
        "id": "fP3ifbALShCn",
        "outputId": "adbc976d-2421-4c96-abb9-0de08930d1de"
      },
      "source": [
        "#f, ax = plt.subplots(figsize = (8,4))\n",
        "sns.relplot(x = 'engine_capacity', y = 'target_price', data = df2_na_removed,style = df2_na_removed['fuel_type'])\n",
        "\n",
        "#As we can see from here the target price is high when it comes for cars with fuel type as Petrol. We will dwelve further into this."
      ],
      "execution_count": null,
      "outputs": [
        {
          "output_type": "execute_result",
          "data": {
            "text/plain": [
              "<seaborn.axisgrid.FacetGrid at 0x7f9027f45710>"
            ]
          },
          "metadata": {
            "tags": []
          },
          "execution_count": 23
        },
        {
          "output_type": "display_data",
          "data": {
            "image/png": "[encoded data removed]",
            "text/plain": [
              "<Figure size 414.125x360 with 1 Axes>"
            ]
          },
          "metadata": {
            "tags": [],
            "needs_background": "light"
          }
        }
      ]
    },
    {
      "cell_type": "code",
      "metadata": {
        "colab": {
          "base_uri": "https://localhost:8080/"
        },
        "id": "Q-qFDQ4fShCo",
        "outputId": "fef9c82e-aa3d-4dda-a15a-287db8a9f20e"
      },
      "source": [
        "pd.value_counts(df2_na_removed['fuel_type']).plot(kind ='pie',colormap='CMRmap')\n",
        "plt.title('Fuel Type', fontsize=10)\n",
        "\n",
        "#Our hypothesis was right indeed. The fuel type Petrol has the highest number of row entries followed by diesel and very low percentage comprised of all other columns."
      ],
      "execution_count": null,
      "outputs": [
        {
          "output_type": "execute_result",
          "data": {
            "text/plain": [
              "Text(0.5, 1.0, 'Fuel Type')"
            ]
          },
          "metadata": {
            "tags": []
          },
          "execution_count": 24
        },
        {
          "output_type": "display_data",
          "data": {
            "image/png": "[encoded data removed]",
            "text/plain": [
              "<Figure size 432x288 with 1 Axes>"
            ]
          },
          "metadata": {
            "tags": []
          }
        }
      ]
    },
    {
      "cell_type": "code",
      "metadata": {
        "colab": {
          "base_uri": "https://localhost:8080/"
        },
        "id": "OQLj3EP-ShCp",
        "outputId": "3b99fcea-d219-496e-e745-537e30a5d6dd"
      },
      "source": [
        "pd.value_counts(df2_na_removed['gearbox']).plot(kind ='pie',colormap='Spectral')\n",
        "\n",
        "#It is evident from here that Manual transmission vehicles are much more prevalent with count above 120000 and automatic coming second with just above 60000 vechicles. "
      ],
      "execution_count": null,
      "outputs": [
        {
          "output_type": "execute_result",
          "data": {
            "text/plain": [
              "<matplotlib.axes._subplots.AxesSubplot at 0x7f9026127550>"
            ]
          },
          "metadata": {
            "tags": []
          },
          "execution_count": 25
        },
        {
          "output_type": "display_data",
          "data": {
            "image/png": "[encoded data removed]",
            "text/plain": [
              "<Figure size 432x288 with 1 Axes>"
            ]
          },
          "metadata": {
            "tags": []
          }
        }
      ]
    },
    {
      "cell_type": "code",
      "metadata": {
        "colab": {
          "base_uri": "https://localhost:8080/"
        },
        "id": "vP3OxUyfShCq",
        "outputId": "30f6c37f-6183-482c-a055-37cfd2cd18ef"
      },
      "source": [
        "df2_na_removed.corr(method ='pearson')"
      ],
      "execution_count": null,
      "outputs": [
        {
          "output_type": "execute_result",
          "data": {
            "text/html": [
              "<div>\n",
              "<style scoped>\n",
              "    .dataframe tbody tr th:only-of-type {\n",
              "        vertical-align: middle;\n",
              "    }\n",
              "\n",
              "    .dataframe tbody tr th {\n",
              "        vertical-align: top;\n",
              "    }\n",
              "\n",
              "    .dataframe thead th {\n",
              "        text-align: right;\n",
              "    }\n",
              "</style>\n",
              "<table border=\"1\" class=\"dataframe\">\n",
              "  <thead>\n",
              "    <tr style=\"text-align: right;\">\n",
              "      <th></th>\n",
              "      <th>vehicle_year</th>\n",
              "      <th>mileage</th>\n",
              "      <th>engine_capacity</th>\n",
              "      <th>engine_power</th>\n",
              "      <th>gearbox</th>\n",
              "      <th>fuel_type</th>\n",
              "      <th>damaged</th>\n",
              "      <th>is_business</th>\n",
              "      <th>target_price</th>\n",
              "    </tr>\n",
              "  </thead>\n",
              "  <tbody>\n",
              "    <tr>\n",
              "      <th>vehicle_year</th>\n",
              "      <td>1.000000</td>\n",
              "      <td>0.000857</td>\n",
              "      <td>-0.149642</td>\n",
              "      <td>0.163234</td>\n",
              "      <td>-0.134219</td>\n",
              "      <td>0.025246</td>\n",
              "      <td>0.025474</td>\n",
              "      <td>0.324832</td>\n",
              "      <td>0.447010</td>\n",
              "    </tr>\n",
              "    <tr>\n",
              "      <th>mileage</th>\n",
              "      <td>0.000857</td>\n",
              "      <td>1.000000</td>\n",
              "      <td>0.003315</td>\n",
              "      <td>0.004175</td>\n",
              "      <td>-0.002544</td>\n",
              "      <td>-0.001409</td>\n",
              "      <td>0.010902</td>\n",
              "      <td>0.001983</td>\n",
              "      <td>-0.000753</td>\n",
              "    </tr>\n",
              "    <tr>\n",
              "      <th>engine_capacity</th>\n",
              "      <td>-0.149642</td>\n",
              "      <td>0.003315</td>\n",
              "      <td>1.000000</td>\n",
              "      <td>0.811218</td>\n",
              "      <td>-0.383329</td>\n",
              "      <td>0.107247</td>\n",
              "      <td>0.029805</td>\n",
              "      <td>-0.116016</td>\n",
              "      <td>0.380108</td>\n",
              "    </tr>\n",
              "    <tr>\n",
              "      <th>engine_power</th>\n",
              "      <td>0.163234</td>\n",
              "      <td>0.004175</td>\n",
              "      <td>0.811218</td>\n",
              "      <td>1.000000</td>\n",
              "      <td>-0.444755</td>\n",
              "      <td>-0.008992</td>\n",
              "      <td>0.028639</td>\n",
              "      <td>-0.007359</td>\n",
              "      <td>0.647038</td>\n",
              "    </tr>\n",
              "    <tr>\n",
              "      <th>gearbox</th>\n",
              "      <td>-0.134219</td>\n",
              "      <td>-0.002544</td>\n",
              "      <td>-0.383329</td>\n",
              "      <td>-0.444755</td>\n",
              "      <td>1.000000</td>\n",
              "      <td>-0.045622</td>\n",
              "      <td>-0.045728</td>\n",
              "      <td>0.026076</td>\n",
              "      <td>-0.299916</td>\n",
              "    </tr>\n",
              "    <tr>\n",
              "      <th>fuel_type</th>\n",
              "      <td>0.025246</td>\n",
              "      <td>-0.001409</td>\n",
              "      <td>0.107247</td>\n",
              "      <td>-0.008992</td>\n",
              "      <td>-0.045622</td>\n",
              "      <td>1.000000</td>\n",
              "      <td>0.003039</td>\n",
              "      <td>-0.050520</td>\n",
              "      <td>0.012175</td>\n",
              "    </tr>\n",
              "    <tr>\n",
              "      <th>damaged</th>\n",
              "      <td>0.025474</td>\n",
              "      <td>0.010902</td>\n",
              "      <td>0.029805</td>\n",
              "      <td>0.028639</td>\n",
              "      <td>-0.045728</td>\n",
              "      <td>0.003039</td>\n",
              "      <td>1.000000</td>\n",
              "      <td>-0.005977</td>\n",
              "      <td>-0.068611</td>\n",
              "    </tr>\n",
              "    <tr>\n",
              "      <th>is_business</th>\n",
              "      <td>0.324832</td>\n",
              "      <td>0.001983</td>\n",
              "      <td>-0.116016</td>\n",
              "      <td>-0.007359</td>\n",
              "      <td>0.026076</td>\n",
              "      <td>-0.050520</td>\n",
              "      <td>-0.005977</td>\n",
              "      <td>1.000000</td>\n",
              "      <td>0.216845</td>\n",
              "    </tr>\n",
              "    <tr>\n",
              "      <th>target_price</th>\n",
              "      <td>0.447010</td>\n",
              "      <td>-0.000753</td>\n",
              "      <td>0.380108</td>\n",
              "      <td>0.647038</td>\n",
              "      <td>-0.299916</td>\n",
              "      <td>0.012175</td>\n",
              "      <td>-0.068611</td>\n",
              "      <td>0.216845</td>\n",
              "      <td>1.000000</td>\n",
              "    </tr>\n",
              "  </tbody>\n",
              "</table>\n",
              "</div>"
            ],
            "text/plain": [
              "                 vehicle_year   mileage  ...  is_business  target_price\n",
              "vehicle_year         1.000000  0.000857  ...     0.324832      0.447010\n",
              "mileage              0.000857  1.000000  ...     0.001983     -0.000753\n",
              "engine_capacity     -0.149642  0.003315  ...    -0.116016      0.380108\n",
              "engine_power         0.163234  0.004175  ...    -0.007359      0.647038\n",
              "gearbox             -0.134219 -0.002544  ...     0.026076     -0.299916\n",
              "fuel_type            0.025246 -0.001409  ...    -0.050520      0.012175\n",
              "damaged              0.025474  0.010902  ...    -0.005977     -0.068611\n",
              "is_business          0.324832  0.001983  ...     1.000000      0.216845\n",
              "target_price         0.447010 -0.000753  ...     0.216845      1.000000\n",
              "\n",
              "[9 rows x 9 columns]"
            ]
          },
          "metadata": {
            "tags": []
          },
          "execution_count": 26
        }
      ]
    },
    {
      "cell_type": "code",
      "metadata": {
        "colab": {
          "base_uri": "https://localhost:8080/"
        },
        "id": "_i3OrDoBShCr",
        "outputId": "55adc41a-8676-4d25-9d65-4b6275a2f5ce"
      },
      "source": [
        "f = plt.figure(figsize=(10, 10))\n",
        "plt.matshow(df2_na_removed.corr(method='pearson'), fignum=f.number)\n",
        "plt.xticks(range(df2_na_removed.select_dtypes(['number']).shape[1]), df2_na_removed.select_dtypes(['number']).columns, fontsize=8, rotation=45)\n",
        "plt.yticks(range(df2_na_removed.select_dtypes(['number']).shape[1]), df2_na_removed.select_dtypes(['number']).columns, fontsize=8)\n",
        "cb = plt.colorbar()\n",
        "cb.ax.tick_params(labelsize=10)\n",
        "#plt.title('Correlation Matrix', fontsize=10)\n",
        "\n",
        "\n",
        "#Although there is not that high a correlation but as can be seen Engine power is correlated engine capacity with a value of 0.8"
      ],
      "execution_count": null,
      "outputs": [
        {
          "output_type": "display_data",
          "data": {
            "image/png": "[encoded data removed]",
            "text/plain": [
              "<Figure size 720x720 with 2 Axes>"
            ]
          },
          "metadata": {
            "tags": [],
            "needs_background": "light"
          }
        }
      ]
    },
    {
      "cell_type": "code",
      "metadata": {
        "colab": {
          "base_uri": "https://localhost:8080/"
        },
        "id": "uTOgXljjShCs",
        "outputId": "651e95c4-bc46-464f-8152-8e7044bdf117"
      },
      "source": [
        "sns.relplot(x = 'vehicle_year', y = 'target_price',kind = 'line',hue = 'fuel_type', data = df2_na_removed)\n",
        "\n",
        "#As deduced, we can see that the car price for fuel type as petrol rose to the maximum during the year 1960 whereas the newer fuel types have the maximum value as around 200000 to 250000 during the year 2002 to 2020.But still the older fuel types were much more in demand."
      ],
      "execution_count": null,
      "outputs": [
        {
          "output_type": "execute_result",
          "data": {
            "text/plain": [
              "<seaborn.axisgrid.FacetGrid at 0x7f9026066310>"
            ]
          },
          "metadata": {
            "tags": []
          },
          "execution_count": 28
        },
        {
          "output_type": "display_data",
          "data": {
            "image/png": "[encoded data removed]",
            "text/plain": [
              "<Figure size 414.125x360 with 1 Axes>"
            ]
          },
          "metadata": {
            "tags": [],
            "needs_background": "light"
          }
        }
      ]
    },
    {
      "cell_type": "code",
      "metadata": {
        "colab": {
          "base_uri": "https://localhost:8080/"
        },
        "id": "hK_fizkBb1jm",
        "outputId": "751cc178-b3fc-408d-9cbc-8e25f480e59b"
      },
      "source": [
        "sns.catplot(y=\"gearbox\", hue=\"fuel_type\", kind=\"count\",\n",
        "            palette=\"pastel\", edgecolor=\".6\",\n",
        "            data=df2_na_removed)"
      ],
      "execution_count": null,
      "outputs": [
        {
          "output_type": "execute_result",
          "data": {
            "text/plain": [
              "<seaborn.axisgrid.FacetGrid at 0x7f9025941050>"
            ]
          },
          "metadata": {
            "tags": []
          },
          "execution_count": 29
        },
        {
          "output_type": "display_data",
          "data": {
            "image/png": "[encoded data removed]",
            "text/plain": [
              "<Figure size 414.125x360 with 1 Axes>"
            ]
          },
          "metadata": {
            "tags": [],
            "needs_background": "light"
          }
        }
      ]
    },
    {
      "cell_type": "code",
      "metadata": {
        "colab": {
          "base_uri": "https://localhost:8080/"
        },
        "id": "oy7DZtUelXxN",
        "outputId": "77f5b167-3d81-49eb-ae65-a1b856ad2be3"
      },
      "source": [
        "print(df2_na_removed['vehicle_year'].min())\n",
        "\n",
        "print(df2_na_removed['vehicle_year'].max())"
      ],
      "execution_count": null,
      "outputs": [
        {
          "output_type": "stream",
          "text": [
            "1917\n",
            "2021\n"
          ],
          "name": "stdout"
        }
      ]
    },
    {
      "cell_type": "code",
      "metadata": {
        "colab": {
          "base_uri": "https://localhost:8080/"
        },
        "id": "0dJ2RS35kwtu",
        "outputId": "53ec145b-55cc-4f78-fbdc-25400f884cb2"
      },
      "source": [
        "sns.catplot(x='vehicle_year',\n",
        "            y ='target_price',\n",
        "                hue='fuel_type',\n",
        "                data=df2_na_removed,\n",
        "                kind='bar',\n",
        "                ci=None,\n",
        "                   )"
      ],
      "execution_count": null,
      "outputs": [
        {
          "output_type": "execute_result",
          "data": {
            "text/plain": [
              "<seaborn.axisgrid.FacetGrid at 0x7f9025f36390>"
            ]
          },
          "metadata": {
            "tags": []
          },
          "execution_count": 31
        },
        {
          "output_type": "display_data",
          "data": {
            "image/png": "[encoded data removed]",
            "text/plain": [
              "<Figure size 414.125x360 with 1 Axes>"
            ]
          },
          "metadata": {
            "tags": [],
            "needs_background": "light"
          }
        }
      ]
    },
    {
      "cell_type": "code",
      "metadata": {
        "colab": {
          "base_uri": "https://localhost:8080/"
        },
        "id": "4SN19_aRpd_G",
        "outputId": "a7c12020-0fcb-4f72-8e3b-a64a02db93e9"
      },
      "source": [
        "sns.catplot(x='vehicle_year',\n",
        "            y ='target_price',\n",
        "                hue='gearbox',\n",
        "                data=df2_na_removed,\n",
        "                kind='bar',\n",
        "                ci=None,\n",
        "                   )"
      ],
      "execution_count": null,
      "outputs": [
        {
          "output_type": "execute_result",
          "data": {
            "text/plain": [
              "<seaborn.axisgrid.FacetGrid at 0x7f9025e4ac10>"
            ]
          },
          "metadata": {
            "tags": []
          },
          "execution_count": 32
        },
        {
          "output_type": "display_data",
          "data": {
            "image/png": "[encoded data removed]",
            "text/plain": [
              "<Figure size 408.625x360 with 1 Axes>"
            ]
          },
          "metadata": {
            "tags": [],
            "needs_background": "light"
          }
        }
      ]
    },
    {
      "cell_type": "code",
      "metadata": {
        "colab": {
          "base_uri": "https://localhost:8080/"
        },
        "id": "3OXQut8NShCt",
        "outputId": "c7846cec-d0a1-49cc-9bbf-b8ba15d7c065"
      },
      "source": [
        "fig, ax = plt.subplots(figsize=(16,8))\n",
        "ax.scatter(df2_na_removed['engine_capacity'], df2_na_removed['target_price'], c = \"black\")\n",
        "ax.set_xlabel('engine_capacity')\n",
        "ax.set_ylabel('target_price')\n",
        "plt.show()"
      ],
      "execution_count": null,
      "outputs": [
        {
          "output_type": "display_data",
          "data": {
            "image/png": "[encoded data removed]",
            "text/plain": [
              "<Figure size 1152x576 with 1 Axes>"
            ]
          },
          "metadata": {
            "tags": [],
            "needs_background": "light"
          }
        }
      ]
    },
    {
      "cell_type": "code",
      "metadata": {
        "colab": {
          "base_uri": "https://localhost:8080/"
        },
        "id": "-x1uapScShCu",
        "outputId": "5004ea1a-18cc-41cf-a283-82f74aefb547"
      },
      "source": [
        "fig, ax = plt.subplots(figsize=(16,8))\n",
        "ax.scatter(df2_na_removed['mileage'], df2_na_removed['target_price'],c='brown')\n",
        "ax.set_xlabel('mileage')\n",
        "ax.set_ylabel('target_price')\n",
        "plt.show()"
      ],
      "execution_count": null,
      "outputs": [
        {
          "output_type": "display_data",
          "data": {
            "image/png": "[encoded data removed]",
            "text/plain": [
              "<Figure size 1152x576 with 1 Axes>"
            ]
          },
          "metadata": {
            "tags": [],
            "needs_background": "light"
          }
        }
      ]
    },
    {
      "cell_type": "code",
      "metadata": {
        "colab": {
          "base_uri": "https://localhost:8080/"
        },
        "id": "QkFhS6eEShCw",
        "outputId": "5ee3d426-8afa-44fc-f31e-5cfae081688a"
      },
      "source": [
        "fig, ax = plt.subplots(figsize=(16,8))\n",
        "ax.scatter(df2_na_removed['engine_power'], df2_na_removed['target_price'], c = 'cyan')\n",
        "ax.set_xlabel('mileage')\n",
        "ax.set_ylabel('target_price')\n",
        "plt.show()"
      ],
      "execution_count": null,
      "outputs": [
        {
          "output_type": "display_data",
          "data": {
            "image/png": "[encoded data removed]",
            "text/plain": [
              "<Figure size 1152x576 with 1 Axes>"
            ]
          },
          "metadata": {
            "tags": [],
            "needs_background": "light"
          }
        }
      ]
    },
    {
      "cell_type": "markdown",
      "metadata": {
        "id": "5eFlYWmFiZr3"
      },
      "source": [
        "# **Detection and Treating Outliers**"
      ]
    },
    {
      "cell_type": "code",
      "metadata": {
        "colab": {
          "base_uri": "https://localhost:8080/"
        },
        "id": "fq3b9YGgShCx",
        "outputId": "0aac72c6-6c8c-440b-de75-24e130d2639b"
      },
      "source": [
        "import seaborn as sns\n",
        "sns.boxplot(df2_na_removed['mileage'])"
      ],
      "execution_count": null,
      "outputs": [
        {
          "output_type": "stream",
          "text": [
            "/usr/local/lib/python3.7/dist-packages/seaborn/_decorators.py:43: FutureWarning: Pass the following variable as a keyword arg: x. From version 0.12, the only valid positional argument will be `data`, and passing other arguments without an explicit keyword will result in an error or misinterpretation.\n",
            "  FutureWarning\n"
          ],
          "name": "stderr"
        },
        {
          "output_type": "execute_result",
          "data": {
            "text/plain": [
              "<matplotlib.axes._subplots.AxesSubplot at 0x7f9024886510>"
            ]
          },
          "metadata": {
            "tags": []
          },
          "execution_count": 36
        },
        {
          "output_type": "display_data",
          "data": {
            "image/png": "[encoded data removed]",
            "text/plain": [
              "<Figure size 432x288 with 1 Axes>"
            ]
          },
          "metadata": {
            "tags": [],
            "needs_background": "light"
          }
        }
      ]
    },
    {
      "cell_type": "code",
      "metadata": {
        "colab": {
          "base_uri": "https://localhost:8080/"
        },
        "id": "kHBlXdXvShCx",
        "outputId": "6b95cd6a-2122-4cf3-d84c-96cc1edbdb23"
      },
      "source": [
        "sns.boxplot(df2_na_removed['engine_power'])"
      ],
      "execution_count": null,
      "outputs": [
        {
          "output_type": "stream",
          "text": [
            "/usr/local/lib/python3.7/dist-packages/seaborn/_decorators.py:43: FutureWarning: Pass the following variable as a keyword arg: x. From version 0.12, the only valid positional argument will be `data`, and passing other arguments without an explicit keyword will result in an error or misinterpretation.\n",
            "  FutureWarning\n"
          ],
          "name": "stderr"
        },
        {
          "output_type": "execute_result",
          "data": {
            "text/plain": [
              "<matplotlib.axes._subplots.AxesSubplot at 0x7f90247a0b10>"
            ]
          },
          "metadata": {
            "tags": []
          },
          "execution_count": 37
        },
        {
          "output_type": "display_data",
          "data": {
            "image/png": "[encoded data removed]",
            "text/plain": [
              "<Figure size 432x288 with 1 Axes>"
            ]
          },
          "metadata": {
            "tags": [],
            "needs_background": "light"
          }
        }
      ]
    },
    {
      "cell_type": "code",
      "metadata": {
        "colab": {
          "base_uri": "https://localhost:8080/"
        },
        "id": "yeAK-JwoShCz",
        "outputId": "38852ef7-30df-4eb4-a857-f461bb400291"
      },
      "source": [
        "sns.boxplot(df2_na_removed['engine_capacity'])"
      ],
      "execution_count": null,
      "outputs": [
        {
          "output_type": "stream",
          "text": [
            "/usr/local/lib/python3.7/dist-packages/seaborn/_decorators.py:43: FutureWarning: Pass the following variable as a keyword arg: x. From version 0.12, the only valid positional argument will be `data`, and passing other arguments without an explicit keyword will result in an error or misinterpretation.\n",
            "  FutureWarning\n"
          ],
          "name": "stderr"
        },
        {
          "output_type": "execute_result",
          "data": {
            "text/plain": [
              "<matplotlib.axes._subplots.AxesSubplot at 0x7f9024886890>"
            ]
          },
          "metadata": {
            "tags": []
          },
          "execution_count": 38
        },
        {
          "output_type": "display_data",
          "data": {
            "image/png": "[encoded data removed]",
            "text/plain": [
              "<Figure size 432x288 with 1 Axes>"
            ]
          },
          "metadata": {
            "tags": [],
            "needs_background": "light"
          }
        }
      ]
    },
    {
      "cell_type": "code",
      "metadata": {
        "id": "t6KZ2JzXShC0"
      },
      "source": [
        "q_low_mil = df2_na_removed[\"mileage\"].quantile(0.01)\n",
        "q_hi_mil = df2_na_removed[\"mileage\"].quantile(0.99)\n",
        "\n",
        "df2_na_removed= df2_na_removed[(df2_na_removed[\"mileage\"] < q_hi_mil) & (df2_na_removed[\"mileage\"] > q_low_mil)]\n",
        "\n",
        "#print(df2_na_removed['mileage'].quantile(0.50)) \n",
        "#print(df2_na_removed['mileage'].quantile(0.95))"
      ],
      "execution_count": null,
      "outputs": []
    },
    {
      "cell_type": "code",
      "metadata": {
        "id": "f9oUx1PAShC0"
      },
      "source": [
        "#df2_na_removed['mileage'] = np.where(df2_na_removed['mileage'] > 287000, 137800, df2_na_removed['mileage'])"
      ],
      "execution_count": null,
      "outputs": []
    },
    {
      "cell_type": "code",
      "metadata": {
        "colab": {
          "base_uri": "https://localhost:8080/"
        },
        "id": "9Peyj7ShShC1",
        "outputId": "da9b769a-64aa-4135-9f9c-ee73fbe85ae6"
      },
      "source": [
        "sns.boxplot(df2_na_removed['mileage'])"
      ],
      "execution_count": null,
      "outputs": [
        {
          "output_type": "stream",
          "text": [
            "/usr/local/lib/python3.7/dist-packages/seaborn/_decorators.py:43: FutureWarning: Pass the following variable as a keyword arg: x. From version 0.12, the only valid positional argument will be `data`, and passing other arguments without an explicit keyword will result in an error or misinterpretation.\n",
            "  FutureWarning\n"
          ],
          "name": "stderr"
        },
        {
          "output_type": "execute_result",
          "data": {
            "text/plain": [
              "<matplotlib.axes._subplots.AxesSubplot at 0x7f90246e8690>"
            ]
          },
          "metadata": {
            "tags": []
          },
          "execution_count": 41
        },
        {
          "output_type": "display_data",
          "data": {
            "image/png": "[encoded data removed]",
            "text/plain": [
              "<Figure size 432x288 with 1 Axes>"
            ]
          },
          "metadata": {
            "tags": [],
            "needs_background": "light"
          }
        }
      ]
    },
    {
      "cell_type": "code",
      "metadata": {
        "id": "Ro5KeccYShC2"
      },
      "source": [
        "#Since Engine power and Engine capacity are correlated to each other with a value of 0.8, It makes sense to remove one of them, as such, we will remove engine capacity since it has high values.\n",
        "\n",
        "df2_na_removed = df2_na_removed.drop(['engine_capacity'], axis=1)"
      ],
      "execution_count": null,
      "outputs": []
    },
    {
      "cell_type": "code",
      "metadata": {
        "id": "TveZh4DeShC3"
      },
      "source": [
        "#print(df2_na_removed['engine_power'].quantile(0.50)) \n",
        "#print(df2_na_removed['engine_power'].quantile(0.95))"
      ],
      "execution_count": null,
      "outputs": []
    },
    {
      "cell_type": "code",
      "metadata": {
        "id": "UON5hC4cShC3"
      },
      "source": [
        "#df2_na_removed['engine_power'] = np.where(df2_na_removed['engine_power'] > 300, 136, df2_na_removed['engine_power'])"
      ],
      "execution_count": null,
      "outputs": []
    },
    {
      "cell_type": "code",
      "metadata": {
        "id": "_o70G-tZShC4"
      },
      "source": [
        "q_low_po = df2_na_removed[\"engine_power\"].quantile(0.15)\n",
        "q_hi_po  = df2_na_removed[\"engine_power\"].quantile(0.85)\n",
        "\n",
        "df2_na_removed= df2_na_removed[(df2_na_removed[\"engine_power\"] < q_hi_po) & (df2_na_removed[\"engine_power\"] > q_low_po)]"
      ],
      "execution_count": null,
      "outputs": []
    },
    {
      "cell_type": "code",
      "metadata": {
        "colab": {
          "base_uri": "https://localhost:8080/"
        },
        "id": "YwP-QldlShC4",
        "outputId": "9acf20ec-c5eb-4106-b1be-b1d7487417ab"
      },
      "source": [
        "sns.boxplot(df2_na_removed['engine_power'])"
      ],
      "execution_count": null,
      "outputs": [
        {
          "output_type": "stream",
          "text": [
            "/usr/local/lib/python3.7/dist-packages/seaborn/_decorators.py:43: FutureWarning: Pass the following variable as a keyword arg: x. From version 0.12, the only valid positional argument will be `data`, and passing other arguments without an explicit keyword will result in an error or misinterpretation.\n",
            "  FutureWarning\n"
          ],
          "name": "stderr"
        },
        {
          "output_type": "execute_result",
          "data": {
            "text/plain": [
              "<matplotlib.axes._subplots.AxesSubplot at 0x7f902466d410>"
            ]
          },
          "metadata": {
            "tags": []
          },
          "execution_count": 46
        },
        {
          "output_type": "display_data",
          "data": {
            "image/png": "[encoded data removed]",
            "text/plain": [
              "<Figure size 432x288 with 1 Axes>"
            ]
          },
          "metadata": {
            "tags": [],
            "needs_background": "light"
          }
        }
      ]
    },
    {
      "cell_type": "code",
      "metadata": {
        "colab": {
          "base_uri": "https://localhost:8080/"
        },
        "id": "-eFonzcoShC4",
        "outputId": "bb4f0f53-eba4-4cdc-f27c-4506cb8f1cf9"
      },
      "source": [
        "df2_na_removed"
      ],
      "execution_count": null,
      "outputs": [
        {
          "output_type": "execute_result",
          "data": {
            "text/html": [
              "<div>\n",
              "<style scoped>\n",
              "    .dataframe tbody tr th:only-of-type {\n",
              "        vertical-align: middle;\n",
              "    }\n",
              "\n",
              "    .dataframe tbody tr th {\n",
              "        vertical-align: top;\n",
              "    }\n",
              "\n",
              "    .dataframe thead th {\n",
              "        text-align: right;\n",
              "    }\n",
              "</style>\n",
              "<table border=\"1\" class=\"dataframe\">\n",
              "  <thead>\n",
              "    <tr style=\"text-align: right;\">\n",
              "      <th></th>\n",
              "      <th>make</th>\n",
              "      <th>model</th>\n",
              "      <th>vehicle_year</th>\n",
              "      <th>mileage</th>\n",
              "      <th>engine_power</th>\n",
              "      <th>gearbox</th>\n",
              "      <th>fuel_type</th>\n",
              "      <th>damaged</th>\n",
              "      <th>is_business</th>\n",
              "      <th>target_price</th>\n",
              "    </tr>\n",
              "  </thead>\n",
              "  <tbody>\n",
              "    <tr>\n",
              "      <th>0</th>\n",
              "      <td>audi</td>\n",
              "      <td>a6</td>\n",
              "      <td>2013</td>\n",
              "      <td>153817.0</td>\n",
              "      <td>180.0</td>\n",
              "      <td>0</td>\n",
              "      <td>0</td>\n",
              "      <td>0</td>\n",
              "      <td>0</td>\n",
              "      <td>69900.0</td>\n",
              "    </tr>\n",
              "    <tr>\n",
              "      <th>3</th>\n",
              "      <td>bmw</td>\n",
              "      <td>seria-3</td>\n",
              "      <td>2013</td>\n",
              "      <td>155000.0</td>\n",
              "      <td>163.0</td>\n",
              "      <td>0</td>\n",
              "      <td>1</td>\n",
              "      <td>0</td>\n",
              "      <td>0</td>\n",
              "      <td>62000.0</td>\n",
              "    </tr>\n",
              "    <tr>\n",
              "      <th>4</th>\n",
              "      <td>renault</td>\n",
              "      <td>talisman</td>\n",
              "      <td>2017</td>\n",
              "      <td>167000.0</td>\n",
              "      <td>130.0</td>\n",
              "      <td>0</td>\n",
              "      <td>1</td>\n",
              "      <td>0</td>\n",
              "      <td>1</td>\n",
              "      <td>52999.0</td>\n",
              "    </tr>\n",
              "    <tr>\n",
              "      <th>5</th>\n",
              "      <td>volkswagen</td>\n",
              "      <td>tiguan</td>\n",
              "      <td>2018</td>\n",
              "      <td>26181.0</td>\n",
              "      <td>150.0</td>\n",
              "      <td>0</td>\n",
              "      <td>0</td>\n",
              "      <td>0</td>\n",
              "      <td>1</td>\n",
              "      <td>105900.0</td>\n",
              "    </tr>\n",
              "    <tr>\n",
              "      <th>7</th>\n",
              "      <td>skoda</td>\n",
              "      <td>octavia</td>\n",
              "      <td>2017</td>\n",
              "      <td>184000.0</td>\n",
              "      <td>150.0</td>\n",
              "      <td>1</td>\n",
              "      <td>0</td>\n",
              "      <td>0</td>\n",
              "      <td>1</td>\n",
              "      <td>44001.0</td>\n",
              "    </tr>\n",
              "    <tr>\n",
              "      <th>...</th>\n",
              "      <td>...</td>\n",
              "      <td>...</td>\n",
              "      <td>...</td>\n",
              "      <td>...</td>\n",
              "      <td>...</td>\n",
              "      <td>...</td>\n",
              "      <td>...</td>\n",
              "      <td>...</td>\n",
              "      <td>...</td>\n",
              "      <td>...</td>\n",
              "    </tr>\n",
              "    <tr>\n",
              "      <th>206201</th>\n",
              "      <td>skoda</td>\n",
              "      <td>octavia</td>\n",
              "      <td>2008</td>\n",
              "      <td>250948.0</td>\n",
              "      <td>140.0</td>\n",
              "      <td>1</td>\n",
              "      <td>1</td>\n",
              "      <td>0</td>\n",
              "      <td>0</td>\n",
              "      <td>11500.0</td>\n",
              "    </tr>\n",
              "    <tr>\n",
              "      <th>206203</th>\n",
              "      <td>honda</td>\n",
              "      <td>jazz</td>\n",
              "      <td>2020</td>\n",
              "      <td>2700.0</td>\n",
              "      <td>97.0</td>\n",
              "      <td>0</td>\n",
              "      <td>3</td>\n",
              "      <td>0</td>\n",
              "      <td>1</td>\n",
              "      <td>94900.0</td>\n",
              "    </tr>\n",
              "    <tr>\n",
              "      <th>206204</th>\n",
              "      <td>mitsubishi</td>\n",
              "      <td>l200</td>\n",
              "      <td>2015</td>\n",
              "      <td>225000.0</td>\n",
              "      <td>178.0</td>\n",
              "      <td>1</td>\n",
              "      <td>1</td>\n",
              "      <td>0</td>\n",
              "      <td>1</td>\n",
              "      <td>69900.0</td>\n",
              "    </tr>\n",
              "    <tr>\n",
              "      <th>206205</th>\n",
              "      <td>volkswagen</td>\n",
              "      <td>transporter</td>\n",
              "      <td>2006</td>\n",
              "      <td>232000.0</td>\n",
              "      <td>105.0</td>\n",
              "      <td>1</td>\n",
              "      <td>1</td>\n",
              "      <td>0</td>\n",
              "      <td>0</td>\n",
              "      <td>29900.0</td>\n",
              "    </tr>\n",
              "    <tr>\n",
              "      <th>206206</th>\n",
              "      <td>volkswagen</td>\n",
              "      <td>passat</td>\n",
              "      <td>2012</td>\n",
              "      <td>204000.0</td>\n",
              "      <td>140.0</td>\n",
              "      <td>1</td>\n",
              "      <td>1</td>\n",
              "      <td>0</td>\n",
              "      <td>1</td>\n",
              "      <td>30900.0</td>\n",
              "    </tr>\n",
              "  </tbody>\n",
              "</table>\n",
              "<p>133070 rows × 10 columns</p>\n",
              "</div>"
            ],
            "text/plain": [
              "              make        model  ...  is_business  target_price\n",
              "0             audi           a6  ...            0       69900.0\n",
              "3              bmw      seria-3  ...            0       62000.0\n",
              "4          renault     talisman  ...            1       52999.0\n",
              "5       volkswagen       tiguan  ...            1      105900.0\n",
              "7            skoda      octavia  ...            1       44001.0\n",
              "...            ...          ...  ...          ...           ...\n",
              "206201       skoda      octavia  ...            0       11500.0\n",
              "206203       honda         jazz  ...            1       94900.0\n",
              "206204  mitsubishi         l200  ...            1       69900.0\n",
              "206205  volkswagen  transporter  ...            0       29900.0\n",
              "206206  volkswagen       passat  ...            1       30900.0\n",
              "\n",
              "[133070 rows x 10 columns]"
            ]
          },
          "metadata": {
            "tags": []
          },
          "execution_count": 47
        }
      ]
    },
    {
      "cell_type": "code",
      "metadata": {
        "id": "N7z0d0JRuaVK"
      },
      "source": [
        "X =df2_na_removed.drop(['target_price','make','model'],axis = 1)\n",
        "y =df2_na_removed[['target_price']]"
      ],
      "execution_count": null,
      "outputs": []
    },
    {
      "cell_type": "code",
      "metadata": {
        "id": "HLEIamK0vcaA"
      },
      "source": [
        "from sklearn.model_selection import train_test_split\n",
        "\n",
        "X_train,X_test,y_train,y_test = train_test_split(X,y,test_size = 0.2,random_state = 0)"
      ],
      "execution_count": null,
      "outputs": []
    },
    {
      "cell_type": "markdown",
      "metadata": {
        "id": "4C2BVpzuSyDh"
      },
      "source": [
        "# **Feature Scaling**"
      ]
    },
    {
      "cell_type": "code",
      "metadata": {
        "id": "hKcSCoh15u6u"
      },
      "source": [
        "from sklearn.preprocessing import StandardScaler\n",
        "sc =  StandardScaler()\n",
        "scaled_features_train = X_train.copy()\n",
        "scaled_features_test = X_test.copy()\n",
        "\n",
        "col_names = ['mileage', 'engine_power']\n",
        "features_train = scaled_features_train[col_names]\n",
        "features_test = scaled_features_test[col_names]\n",
        "scaler = sc.fit(features_train.values)\n",
        "features = scaler.transform(features_test.values)\n",
        "scaler_train = scaler.transform(features_train.values)\n",
        "\n",
        "scaled_features_train[col_names] = scaler_train\n",
        "scaled_features_test[col_names] = features\n",
        "\n",
        "\n",
        "sc2 = StandardScaler()\n",
        "scaler_test= sc2.fit(y_train)\n",
        "y_scaled_test = scaler_test.transform(y_test)\n",
        "y_scaled_train=scaler_test.transform(y_train)"
      ],
      "execution_count": null,
      "outputs": []
    },
    {
      "cell_type": "code",
      "metadata": {
        "colab": {
          "base_uri": "https://localhost:8080/"
        },
        "id": "e8ikN2tN84t6",
        "outputId": "5921a386-1a3c-4f72-fe2d-e1b7e5e534c9"
      },
      "source": [
        "scaled_features_train"
      ],
      "execution_count": null,
      "outputs": [
        {
          "output_type": "execute_result",
          "data": {
            "text/html": [
              "<div>\n",
              "<style scoped>\n",
              "    .dataframe tbody tr th:only-of-type {\n",
              "        vertical-align: middle;\n",
              "    }\n",
              "\n",
              "    .dataframe tbody tr th {\n",
              "        vertical-align: top;\n",
              "    }\n",
              "\n",
              "    .dataframe thead th {\n",
              "        text-align: right;\n",
              "    }\n",
              "</style>\n",
              "<table border=\"1\" class=\"dataframe\">\n",
              "  <thead>\n",
              "    <tr style=\"text-align: right;\">\n",
              "      <th></th>\n",
              "      <th>vehicle_year</th>\n",
              "      <th>mileage</th>\n",
              "      <th>engine_power</th>\n",
              "      <th>gearbox</th>\n",
              "      <th>fuel_type</th>\n",
              "      <th>damaged</th>\n",
              "      <th>is_business</th>\n",
              "    </tr>\n",
              "  </thead>\n",
              "  <tbody>\n",
              "    <tr>\n",
              "      <th>28252</th>\n",
              "      <td>2007</td>\n",
              "      <td>0.091472</td>\n",
              "      <td>0.151768</td>\n",
              "      <td>0</td>\n",
              "      <td>1</td>\n",
              "      <td>0</td>\n",
              "      <td>0</td>\n",
              "    </tr>\n",
              "    <tr>\n",
              "      <th>143661</th>\n",
              "      <td>2016</td>\n",
              "      <td>-0.322630</td>\n",
              "      <td>2.033159</td>\n",
              "      <td>0</td>\n",
              "      <td>1</td>\n",
              "      <td>0</td>\n",
              "      <td>0</td>\n",
              "    </tr>\n",
              "    <tr>\n",
              "      <th>183033</th>\n",
              "      <td>2008</td>\n",
              "      <td>0.326503</td>\n",
              "      <td>0.227024</td>\n",
              "      <td>1</td>\n",
              "      <td>0</td>\n",
              "      <td>0</td>\n",
              "      <td>0</td>\n",
              "    </tr>\n",
              "    <tr>\n",
              "      <th>145847</th>\n",
              "      <td>2012</td>\n",
              "      <td>-0.526323</td>\n",
              "      <td>-1.353344</td>\n",
              "      <td>1</td>\n",
              "      <td>0</td>\n",
              "      <td>0</td>\n",
              "      <td>1</td>\n",
              "    </tr>\n",
              "    <tr>\n",
              "      <th>52937</th>\n",
              "      <td>2017</td>\n",
              "      <td>-0.640033</td>\n",
              "      <td>-0.412649</td>\n",
              "      <td>1</td>\n",
              "      <td>0</td>\n",
              "      <td>0</td>\n",
              "      <td>1</td>\n",
              "    </tr>\n",
              "    <tr>\n",
              "      <th>...</th>\n",
              "      <td>...</td>\n",
              "      <td>...</td>\n",
              "      <td>...</td>\n",
              "      <td>...</td>\n",
              "      <td>...</td>\n",
              "      <td>...</td>\n",
              "      <td>...</td>\n",
              "    </tr>\n",
              "    <tr>\n",
              "      <th>64633</th>\n",
              "      <td>2007</td>\n",
              "      <td>1.274247</td>\n",
              "      <td>-0.224510</td>\n",
              "      <td>1</td>\n",
              "      <td>1</td>\n",
              "      <td>0</td>\n",
              "      <td>0</td>\n",
              "    </tr>\n",
              "    <tr>\n",
              "      <th>151189</th>\n",
              "      <td>2020</td>\n",
              "      <td>-1.576071</td>\n",
              "      <td>1.732136</td>\n",
              "      <td>1</td>\n",
              "      <td>0</td>\n",
              "      <td>0</td>\n",
              "      <td>1</td>\n",
              "    </tr>\n",
              "    <tr>\n",
              "      <th>148532</th>\n",
              "      <td>2014</td>\n",
              "      <td>-0.694739</td>\n",
              "      <td>-0.036371</td>\n",
              "      <td>1</td>\n",
              "      <td>0</td>\n",
              "      <td>0</td>\n",
              "      <td>1</td>\n",
              "    </tr>\n",
              "    <tr>\n",
              "      <th>182762</th>\n",
              "      <td>2007</td>\n",
              "      <td>-0.585640</td>\n",
              "      <td>-1.541483</td>\n",
              "      <td>1</td>\n",
              "      <td>0</td>\n",
              "      <td>0</td>\n",
              "      <td>1</td>\n",
              "    </tr>\n",
              "    <tr>\n",
              "      <th>67075</th>\n",
              "      <td>2004</td>\n",
              "      <td>2.016485</td>\n",
              "      <td>1.017208</td>\n",
              "      <td>1</td>\n",
              "      <td>1</td>\n",
              "      <td>0</td>\n",
              "      <td>0</td>\n",
              "    </tr>\n",
              "  </tbody>\n",
              "</table>\n",
              "<p>106456 rows × 7 columns</p>\n",
              "</div>"
            ],
            "text/plain": [
              "        vehicle_year   mileage  engine_power  ...  fuel_type  damaged  is_business\n",
              "28252           2007  0.091472      0.151768  ...          1        0            0\n",
              "143661          2016 -0.322630      2.033159  ...          1        0            0\n",
              "183033          2008  0.326503      0.227024  ...          0        0            0\n",
              "145847          2012 -0.526323     -1.353344  ...          0        0            1\n",
              "52937           2017 -0.640033     -0.412649  ...          0        0            1\n",
              "...              ...       ...           ...  ...        ...      ...          ...\n",
              "64633           2007  1.274247     -0.224510  ...          1        0            0\n",
              "151189          2020 -1.576071      1.732136  ...          0        0            1\n",
              "148532          2014 -0.694739     -0.036371  ...          0        0            1\n",
              "182762          2007 -0.585640     -1.541483  ...          0        0            1\n",
              "67075           2004  2.016485      1.017208  ...          1        0            0\n",
              "\n",
              "[106456 rows x 7 columns]"
            ]
          },
          "metadata": {
            "tags": []
          },
          "execution_count": 51
        }
      ]
    },
    {
      "cell_type": "code",
      "metadata": {
        "colab": {
          "base_uri": "https://localhost:8080/"
        },
        "id": "duJQKgYPCeE_",
        "outputId": "c3345a76-b433-4300-858f-4f810ae83c03"
      },
      "source": [
        "scaled_features_test"
      ],
      "execution_count": null,
      "outputs": [
        {
          "output_type": "execute_result",
          "data": {
            "text/html": [
              "<div>\n",
              "<style scoped>\n",
              "    .dataframe tbody tr th:only-of-type {\n",
              "        vertical-align: middle;\n",
              "    }\n",
              "\n",
              "    .dataframe tbody tr th {\n",
              "        vertical-align: top;\n",
              "    }\n",
              "\n",
              "    .dataframe thead th {\n",
              "        text-align: right;\n",
              "    }\n",
              "</style>\n",
              "<table border=\"1\" class=\"dataframe\">\n",
              "  <thead>\n",
              "    <tr style=\"text-align: right;\">\n",
              "      <th></th>\n",
              "      <th>vehicle_year</th>\n",
              "      <th>mileage</th>\n",
              "      <th>engine_power</th>\n",
              "      <th>gearbox</th>\n",
              "      <th>fuel_type</th>\n",
              "      <th>damaged</th>\n",
              "      <th>is_business</th>\n",
              "    </tr>\n",
              "  </thead>\n",
              "  <tbody>\n",
              "    <tr>\n",
              "      <th>189581</th>\n",
              "      <td>2007</td>\n",
              "      <td>0.193475</td>\n",
              "      <td>-0.788927</td>\n",
              "      <td>1</td>\n",
              "      <td>1</td>\n",
              "      <td>0</td>\n",
              "      <td>0</td>\n",
              "    </tr>\n",
              "    <tr>\n",
              "      <th>90606</th>\n",
              "      <td>2005</td>\n",
              "      <td>0.839093</td>\n",
              "      <td>0.528047</td>\n",
              "      <td>1</td>\n",
              "      <td>0</td>\n",
              "      <td>0</td>\n",
              "      <td>1</td>\n",
              "    </tr>\n",
              "    <tr>\n",
              "      <th>45741</th>\n",
              "      <td>2019</td>\n",
              "      <td>-1.487711</td>\n",
              "      <td>2.033159</td>\n",
              "      <td>0</td>\n",
              "      <td>0</td>\n",
              "      <td>0</td>\n",
              "      <td>1</td>\n",
              "    </tr>\n",
              "    <tr>\n",
              "      <th>202721</th>\n",
              "      <td>2008</td>\n",
              "      <td>0.102664</td>\n",
              "      <td>-1.654366</td>\n",
              "      <td>1</td>\n",
              "      <td>0</td>\n",
              "      <td>0</td>\n",
              "      <td>1</td>\n",
              "    </tr>\n",
              "    <tr>\n",
              "      <th>93899</th>\n",
              "      <td>2015</td>\n",
              "      <td>-0.109983</td>\n",
              "      <td>1.017208</td>\n",
              "      <td>0</td>\n",
              "      <td>1</td>\n",
              "      <td>0</td>\n",
              "      <td>1</td>\n",
              "    </tr>\n",
              "    <tr>\n",
              "      <th>...</th>\n",
              "      <td>...</td>\n",
              "      <td>...</td>\n",
              "      <td>...</td>\n",
              "      <td>...</td>\n",
              "      <td>...</td>\n",
              "      <td>...</td>\n",
              "      <td>...</td>\n",
              "    </tr>\n",
              "    <tr>\n",
              "      <th>174351</th>\n",
              "      <td>2014</td>\n",
              "      <td>-0.479317</td>\n",
              "      <td>1.807392</td>\n",
              "      <td>0</td>\n",
              "      <td>1</td>\n",
              "      <td>0</td>\n",
              "      <td>0</td>\n",
              "    </tr>\n",
              "    <tr>\n",
              "      <th>70873</th>\n",
              "      <td>2016</td>\n",
              "      <td>0.326503</td>\n",
              "      <td>1.092464</td>\n",
              "      <td>1</td>\n",
              "      <td>0</td>\n",
              "      <td>0</td>\n",
              "      <td>1</td>\n",
              "    </tr>\n",
              "    <tr>\n",
              "      <th>61920</th>\n",
              "      <td>2016</td>\n",
              "      <td>-0.465047</td>\n",
              "      <td>1.807392</td>\n",
              "      <td>0</td>\n",
              "      <td>0</td>\n",
              "      <td>0</td>\n",
              "      <td>0</td>\n",
              "    </tr>\n",
              "    <tr>\n",
              "      <th>92620</th>\n",
              "      <td>2017</td>\n",
              "      <td>-1.262753</td>\n",
              "      <td>-0.224510</td>\n",
              "      <td>1</td>\n",
              "      <td>1</td>\n",
              "      <td>0</td>\n",
              "      <td>1</td>\n",
              "    </tr>\n",
              "    <tr>\n",
              "      <th>182818</th>\n",
              "      <td>2008</td>\n",
              "      <td>0.494382</td>\n",
              "      <td>-0.751299</td>\n",
              "      <td>1</td>\n",
              "      <td>0</td>\n",
              "      <td>0</td>\n",
              "      <td>1</td>\n",
              "    </tr>\n",
              "  </tbody>\n",
              "</table>\n",
              "<p>26614 rows × 7 columns</p>\n",
              "</div>"
            ],
            "text/plain": [
              "        vehicle_year   mileage  engine_power  ...  fuel_type  damaged  is_business\n",
              "189581          2007  0.193475     -0.788927  ...          1        0            0\n",
              "90606           2005  0.839093      0.528047  ...          0        0            1\n",
              "45741           2019 -1.487711      2.033159  ...          0        0            1\n",
              "202721          2008  0.102664     -1.654366  ...          0        0            1\n",
              "93899           2015 -0.109983      1.017208  ...          1        0            1\n",
              "...              ...       ...           ...  ...        ...      ...          ...\n",
              "174351          2014 -0.479317      1.807392  ...          1        0            0\n",
              "70873           2016  0.326503      1.092464  ...          0        0            1\n",
              "61920           2016 -0.465047      1.807392  ...          0        0            0\n",
              "92620           2017 -1.262753     -0.224510  ...          1        0            1\n",
              "182818          2008  0.494382     -0.751299  ...          0        0            1\n",
              "\n",
              "[26614 rows x 7 columns]"
            ]
          },
          "metadata": {
            "tags": []
          },
          "execution_count": 52
        }
      ]
    },
    {
      "cell_type": "markdown",
      "metadata": {
        "id": "ebEHeqVvihrr"
      },
      "source": [
        "# **K-Fold Cross Validation**"
      ]
    },
    {
      "cell_type": "code",
      "metadata": {
        "id": "E-A8Dox6yFDI"
      },
      "source": [
        "from sklearn.svm import SVR\n",
        "from sklearn.model_selection import KFold\n",
        "from sklearn.model_selection import cross_val_score"
      ],
      "execution_count": null,
      "outputs": []
    },
    {
      "cell_type": "code",
      "metadata": {
        "id": "Yg7K-dHqfvRT",
        "colab": {
          "base_uri": "https://localhost:8080/"
        },
        "outputId": "6b801285-b3ff-44a4-fde5-085d5c26f311"
      },
      "source": [
        "scores = []\n",
        "best_svr = SVR(kernel='rbf')\n",
        "cv = KFold(n_splits=10, random_state=42, shuffle=False)\n",
        "\n",
        "best_svr.fit(scaled_features_train, y_scaled_train)\n",
        "scores.append(best_svr.score(scaled_features_test, y_scaled_test))\n",
        "\n",
        "\n",
        "#cross_val_score(best_svr, X, y, cv=10)\n"
      ],
      "execution_count": null,
      "outputs": [
        {
          "output_type": "stream",
          "text": [
            "/usr/local/lib/python3.7/dist-packages/sklearn/model_selection/_split.py:296: FutureWarning: Setting a random_state has no effect since shuffle is False. This will raise an error in 0.24. You should leave random_state to its default (None), or set shuffle=True.\n",
            "  FutureWarning\n",
            "/usr/local/lib/python3.7/dist-packages/sklearn/utils/validation.py:760: DataConversionWarning: A column-vector y was passed when a 1d array was expected. Please change the shape of y to (n_samples, ), for example using ravel().\n",
            "  y = column_or_1d(y, warn=True)\n"
          ],
          "name": "stderr"
        }
      ]
    },
    {
      "cell_type": "code",
      "metadata": {
        "colab": {
          "base_uri": "https://localhost:8080/"
        },
        "id": "TgJKmFNJ75wg",
        "outputId": "5c1405b7-b8da-4b77-ef85-1b26ad141c3b"
      },
      "source": [
        "scores"
      ],
      "execution_count": null,
      "outputs": [
        {
          "output_type": "execute_result",
          "data": {
            "text/plain": [
              "[0.38661647861307313]"
            ]
          },
          "metadata": {
            "tags": []
          },
          "execution_count": 61
        }
      ]
    },
    {
      "cell_type": "markdown",
      "metadata": {
        "id": "ZLCfG-dHisUM"
      },
      "source": [
        "# **Support Vector Regression**"
      ]
    },
    {
      "cell_type": "code",
      "metadata": {
        "colab": {
          "base_uri": "https://localhost:8080/"
        },
        "id": "bcOYzl6rShC6",
        "outputId": "99745dcf-928f-48e0-899f-b23254674471"
      },
      "source": [
        "import timeit\n",
        "\n",
        "start_svr = timeit.default_timer()\n",
        "\n",
        "from sklearn.svm import SVR\n",
        "\n",
        "regressor = SVR(kernel='rbf',C = 1)\n",
        "regressor.fit(scaled_features_train,y_scaled_train)\n",
        "\n",
        "stop_svr = timeit.default_timer()\n",
        "\n",
        "print('Time: ', stop_svr - start_svr)  "
      ],
      "execution_count": null,
      "outputs": [
        {
          "output_type": "stream",
          "text": [
            "/usr/local/lib/python3.7/dist-packages/sklearn/utils/validation.py:760: DataConversionWarning: A column-vector y was passed when a 1d array was expected. Please change the shape of y to (n_samples, ), for example using ravel().\n",
            "  y = column_or_1d(y, warn=True)\n"
          ],
          "name": "stderr"
        },
        {
          "output_type": "stream",
          "text": [
            "Time:  1328.9466214619997\n"
          ],
          "name": "stdout"
        }
      ]
    },
    {
      "cell_type": "code",
      "metadata": {
        "id": "vCpCMFskShC7"
      },
      "source": [
        "y_pred =regressor.predict(scaled_features_test)"
      ],
      "execution_count": null,
      "outputs": []
    },
    {
      "cell_type": "code",
      "metadata": {
        "colab": {
          "base_uri": "https://localhost:8080/"
        },
        "id": "Jr1UaPfGLn0E",
        "outputId": "4eca0459-1159-49ca-c565-41ed87c7e32d"
      },
      "source": [
        "y_pred"
      ],
      "execution_count": null,
      "outputs": [
        {
          "output_type": "execute_result",
          "data": {
            "text/plain": [
              "array([-0.64192036, -0.77521524,  0.39508261, ...,  0.13369092,\n",
              "        0.17739124, -0.56608719])"
            ]
          },
          "metadata": {
            "tags": []
          },
          "execution_count": 64
        }
      ]
    },
    {
      "cell_type": "code",
      "metadata": {
        "id": "y302lIGLShC7"
      },
      "source": [
        "y_predicted = sc2.inverse_transform(y_pred)"
      ],
      "execution_count": null,
      "outputs": []
    },
    {
      "cell_type": "code",
      "metadata": {
        "colab": {
          "base_uri": "https://localhost:8080/"
        },
        "id": "cNF5WIZDL2XV",
        "outputId": "a44bf300-7073-4d4d-85a5-86d8211c5e17"
      },
      "source": [
        "y_predicted"
      ],
      "execution_count": null,
      "outputs": [
        {
          "output_type": "execute_result",
          "data": {
            "text/plain": [
              "array([20791.36858067, 15233.53737258, 64029.9919747 , ...,\n",
              "       53131.06751938, 54953.18532698, 23953.28970415])"
            ]
          },
          "metadata": {
            "tags": []
          },
          "execution_count": 66
        }
      ]
    },
    {
      "cell_type": "code",
      "metadata": {
        "colab": {
          "base_uri": "https://localhost:8080/"
        },
        "id": "0KC_XavQShC7",
        "outputId": "a983431f-68cb-4144-bb37-c0579ad5d9d1"
      },
      "source": [
        "y_test"
      ],
      "execution_count": null,
      "outputs": [
        {
          "output_type": "execute_result",
          "data": {
            "text/html": [
              "<div>\n",
              "<style scoped>\n",
              "    .dataframe tbody tr th:only-of-type {\n",
              "        vertical-align: middle;\n",
              "    }\n",
              "\n",
              "    .dataframe tbody tr th {\n",
              "        vertical-align: top;\n",
              "    }\n",
              "\n",
              "    .dataframe thead th {\n",
              "        text-align: right;\n",
              "    }\n",
              "</style>\n",
              "<table border=\"1\" class=\"dataframe\">\n",
              "  <thead>\n",
              "    <tr style=\"text-align: right;\">\n",
              "      <th></th>\n",
              "      <th>target_price</th>\n",
              "    </tr>\n",
              "  </thead>\n",
              "  <tbody>\n",
              "    <tr>\n",
              "      <th>189581</th>\n",
              "      <td>9999.0</td>\n",
              "    </tr>\n",
              "    <tr>\n",
              "      <th>90606</th>\n",
              "      <td>24500.0</td>\n",
              "    </tr>\n",
              "    <tr>\n",
              "      <th>45741</th>\n",
              "      <td>180000.0</td>\n",
              "    </tr>\n",
              "    <tr>\n",
              "      <th>202721</th>\n",
              "      <td>11700.0</td>\n",
              "    </tr>\n",
              "    <tr>\n",
              "      <th>93899</th>\n",
              "      <td>48800.0</td>\n",
              "    </tr>\n",
              "    <tr>\n",
              "      <th>...</th>\n",
              "      <td>...</td>\n",
              "    </tr>\n",
              "    <tr>\n",
              "      <th>174351</th>\n",
              "      <td>75900.0</td>\n",
              "    </tr>\n",
              "    <tr>\n",
              "      <th>70873</th>\n",
              "      <td>45999.0</td>\n",
              "    </tr>\n",
              "    <tr>\n",
              "      <th>61920</th>\n",
              "      <td>105900.0</td>\n",
              "    </tr>\n",
              "    <tr>\n",
              "      <th>92620</th>\n",
              "      <td>68880.0</td>\n",
              "    </tr>\n",
              "    <tr>\n",
              "      <th>182818</th>\n",
              "      <td>23900.0</td>\n",
              "    </tr>\n",
              "  </tbody>\n",
              "</table>\n",
              "<p>26614 rows × 1 columns</p>\n",
              "</div>"
            ],
            "text/plain": [
              "        target_price\n",
              "189581        9999.0\n",
              "90606        24500.0\n",
              "45741       180000.0\n",
              "202721       11700.0\n",
              "93899        48800.0\n",
              "...              ...\n",
              "174351       75900.0\n",
              "70873        45999.0\n",
              "61920       105900.0\n",
              "92620        68880.0\n",
              "182818       23900.0\n",
              "\n",
              "[26614 rows x 1 columns]"
            ]
          },
          "metadata": {
            "tags": []
          },
          "execution_count": 67
        }
      ]
    },
    {
      "cell_type": "code",
      "metadata": {
        "colab": {
          "base_uri": "https://localhost:8080/"
        },
        "id": "gkUnUWr-ShC7",
        "outputId": "34d5f897-7d59-42c6-8061-3a314602511c"
      },
      "source": [
        "from sklearn.metrics import r2_score \n",
        "r2_score(y_test, y_predicted)"
      ],
      "execution_count": null,
      "outputs": [
        {
          "output_type": "execute_result",
          "data": {
            "text/plain": [
              "0.38661647861307324"
            ]
          },
          "metadata": {
            "tags": []
          },
          "execution_count": 68
        }
      ]
    },
    {
      "cell_type": "code",
      "metadata": {
        "colab": {
          "base_uri": "https://localhost:8080/"
        },
        "id": "zdrUZeYb3q8Z",
        "outputId": "965c685d-414c-417a-8a4e-796447868b1b"
      },
      "source": [
        "from sklearn import metrics\n",
        "\n",
        "print('Mean Absolute Error:', metrics.mean_absolute_error(y_scaled_test, y_pred))\n",
        "print('Mean Squared Error:', metrics.mean_squared_error(y_scaled_test, y_pred))\n",
        "print('Root Mean Squared Error:', np.sqrt(metrics.mean_squared_error(y_scaled_test, y_pred)))"
      ],
      "execution_count": null,
      "outputs": [
        {
          "output_type": "stream",
          "text": [
            "Mean Absolute Error: 0.4217968622370053\n",
            "Mean Squared Error: 0.6110805059067631\n",
            "Root Mean Squared Error: 0.7817163845710048\n"
          ],
          "name": "stdout"
        }
      ]
    },
    {
      "cell_type": "code",
      "metadata": {
        "colab": {
          "base_uri": "https://localhost:8080/"
        },
        "id": "r3m9ZYi1ShC8",
        "outputId": "ace8c437-d6be-4ebf-bb02-15490d80c867"
      },
      "source": [
        "x_ax = range(len(y_predicted))\n",
        "plt.scatter(x_ax, y_test, s=5, color=\"blue\", label=\"original\")\n",
        "plt.plot(x_ax, y_predicted, lw=0.8, color=\"red\", label=\"predicted\")\n",
        "plt.legend()\n",
        "plt.show()"
      ],
      "execution_count": null,
      "outputs": [
        {
          "output_type": "display_data",
          "data": {
            "image/png": "[encoded data removed]",
            "text/plain": [
              "<Figure size 432x288 with 1 Axes>"
            ]
          },
          "metadata": {
            "tags": [],
            "needs_background": "light"
          }
        }
      ]
    },
    {
      "cell_type": "markdown",
      "metadata": {
        "id": "wtSD3sAxiyn0"
      },
      "source": [
        "# **Custom CNN Model**"
      ]
    },
    {
      "cell_type": "code",
      "metadata": {
        "colab": {
          "base_uri": "https://localhost:8080/"
        },
        "id": "EwyXNK55ShC8",
        "outputId": "4f53fc94-745b-4d62-8987-b3a42b71a5aa"
      },
      "source": [
        "scaled_features_train = scaled_features_train.values.reshape(scaled_features_train.shape[0], scaled_features_train.shape[1], 1)\n",
        "print(scaled_features_train.shape)"
      ],
      "execution_count": null,
      "outputs": [
        {
          "output_type": "stream",
          "text": [
            "(106456, 7, 1)\n"
          ],
          "name": "stdout"
        }
      ]
    },
    {
      "cell_type": "code",
      "metadata": {
        "colab": {
          "base_uri": "https://localhost:8080/"
        },
        "id": "R0Tgp3wZShC8",
        "outputId": "634bb307-4c3c-4020-fabc-294bb0aadfad"
      },
      "source": [
        "scaled_features_test = scaled_features_test.values.reshape(scaled_features_test.shape[0], scaled_features_test.shape[1], 1)\n",
        "print(scaled_features_test.shape)"
      ],
      "execution_count": null,
      "outputs": [
        {
          "output_type": "stream",
          "text": [
            "(26614, 7, 1)\n"
          ],
          "name": "stdout"
        }
      ]
    },
    {
      "cell_type": "code",
      "metadata": {
        "id": "6qkea3NSShC9"
      },
      "source": [
        "import tensorflow as tf"
      ],
      "execution_count": null,
      "outputs": []
    },
    {
      "cell_type": "code",
      "metadata": {
        "colab": {
          "base_uri": "https://localhost:8080/"
        },
        "id": "uKYrlEszShC9",
        "outputId": "a3daf36c-327f-47cc-abc1-4fc40d5e7dde"
      },
      "source": [
        "model = tf.keras.Sequential()\n",
        "model.add(tf.keras.layers.Conv1D(32, 2, activation=\"relu\", input_shape=(7, 1)))\n",
        "model.add(tf.keras.layers.Flatten())\n",
        "model.add(tf.keras.layers.Dense(64, activation=\"relu\"))\n",
        "model.add(tf.keras.layers.Dense(1))\n",
        "model.compile(loss=\"mse\", optimizer=\"adam\")\n",
        "\n",
        "model.summary()"
      ],
      "execution_count": null,
      "outputs": [
        {
          "output_type": "stream",
          "text": [
            "Model: \"sequential\"\n",
            "_________________________________________________________________\n",
            "Layer (type)                 Output Shape              Param #   \n",
            "=================================================================\n",
            "conv1d (Conv1D)              (None, 6, 32)             96        \n",
            "_________________________________________________________________\n",
            "flatten (Flatten)            (None, 192)               0         \n",
            "_________________________________________________________________\n",
            "dense (Dense)                (None, 64)                12352     \n",
            "_________________________________________________________________\n",
            "dense_1 (Dense)              (None, 1)                 65        \n",
            "=================================================================\n",
            "Total params: 12,513\n",
            "Trainable params: 12,513\n",
            "Non-trainable params: 0\n",
            "_________________________________________________________________\n"
          ],
          "name": "stdout"
        }
      ]
    },
    {
      "cell_type": "code",
      "metadata": {
        "id": "KOHCcgHHShC9"
      },
      "source": [
        "model.compile(optimizer = 'adam',loss = 'mean_squared_error')"
      ],
      "execution_count": null,
      "outputs": []
    },
    {
      "cell_type": "code",
      "metadata": {
        "colab": {
          "base_uri": "https://localhost:8080/"
        },
        "id": "C-xK4WbeShC-",
        "outputId": "ce559f8a-c028-49de-f914-3fe827e745ee"
      },
      "source": [
        "import timeit\n",
        "start_cnn = timeit.default_timer()\n",
        "\n",
        "model.fit(scaled_features_train, y_scaled_train, batch_size=100,epochs=50, verbose=0)\n",
        "\n",
        "stop_cnn = timeit.default_timer()\n",
        "\n",
        "print('Time: ', stop_cnn - start_cnn)  "
      ],
      "execution_count": null,
      "outputs": [
        {
          "output_type": "stream",
          "text": [
            "Time:  108.00704970599963\n"
          ],
          "name": "stdout"
        }
      ]
    },
    {
      "cell_type": "code",
      "metadata": {
        "id": "bC2_ZXas3THk"
      },
      "source": [
        "y_cnn_norm = model.predict(scaled_features_test)"
      ],
      "execution_count": null,
      "outputs": []
    },
    {
      "cell_type": "code",
      "metadata": {
        "id": "77yL26rIShC-"
      },
      "source": [
        "y_cnn_pred = sc2.inverse_transform(model.predict(scaled_features_test))"
      ],
      "execution_count": null,
      "outputs": []
    },
    {
      "cell_type": "code",
      "metadata": {
        "colab": {
          "base_uri": "https://localhost:8080/"
        },
        "id": "D1Mctzm5iO2O",
        "outputId": "fbdb3bcb-8beb-4b2d-830b-707412c90455"
      },
      "source": [
        "y_cnn_pred"
      ],
      "execution_count": null,
      "outputs": [
        {
          "output_type": "execute_result",
          "data": {
            "text/plain": [
              "array([[ 29226.734],\n",
              "       [ 24393.955],\n",
              "       [155398.48 ],\n",
              "       ...,\n",
              "       [ 65963.26 ],\n",
              "       [ 79512.37 ],\n",
              "       [ 20108.918]], dtype=float32)"
            ]
          },
          "metadata": {
            "tags": []
          },
          "execution_count": 79
        }
      ]
    },
    {
      "cell_type": "code",
      "metadata": {
        "colab": {
          "base_uri": "https://localhost:8080/",
          "height": 402
        },
        "id": "DPq7u47ZiQlO",
        "outputId": "fd015781-83f5-460e-b8cd-16209d27a9af"
      },
      "source": [
        "y_test"
      ],
      "execution_count": null,
      "outputs": [
        {
          "output_type": "execute_result",
          "data": {
            "text/html": [
              "<div>\n",
              "<style scoped>\n",
              "    .dataframe tbody tr th:only-of-type {\n",
              "        vertical-align: middle;\n",
              "    }\n",
              "\n",
              "    .dataframe tbody tr th {\n",
              "        vertical-align: top;\n",
              "    }\n",
              "\n",
              "    .dataframe thead th {\n",
              "        text-align: right;\n",
              "    }\n",
              "</style>\n",
              "<table border=\"1\" class=\"dataframe\">\n",
              "  <thead>\n",
              "    <tr style=\"text-align: right;\">\n",
              "      <th></th>\n",
              "      <th>target_price</th>\n",
              "    </tr>\n",
              "  </thead>\n",
              "  <tbody>\n",
              "    <tr>\n",
              "      <th>189581</th>\n",
              "      <td>9999.0</td>\n",
              "    </tr>\n",
              "    <tr>\n",
              "      <th>90606</th>\n",
              "      <td>24500.0</td>\n",
              "    </tr>\n",
              "    <tr>\n",
              "      <th>45741</th>\n",
              "      <td>180000.0</td>\n",
              "    </tr>\n",
              "    <tr>\n",
              "      <th>202721</th>\n",
              "      <td>11700.0</td>\n",
              "    </tr>\n",
              "    <tr>\n",
              "      <th>93899</th>\n",
              "      <td>48800.0</td>\n",
              "    </tr>\n",
              "    <tr>\n",
              "      <th>...</th>\n",
              "      <td>...</td>\n",
              "    </tr>\n",
              "    <tr>\n",
              "      <th>174351</th>\n",
              "      <td>75900.0</td>\n",
              "    </tr>\n",
              "    <tr>\n",
              "      <th>70873</th>\n",
              "      <td>45999.0</td>\n",
              "    </tr>\n",
              "    <tr>\n",
              "      <th>61920</th>\n",
              "      <td>105900.0</td>\n",
              "    </tr>\n",
              "    <tr>\n",
              "      <th>92620</th>\n",
              "      <td>68880.0</td>\n",
              "    </tr>\n",
              "    <tr>\n",
              "      <th>182818</th>\n",
              "      <td>23900.0</td>\n",
              "    </tr>\n",
              "  </tbody>\n",
              "</table>\n",
              "<p>26614 rows × 1 columns</p>\n",
              "</div>"
            ],
            "text/plain": [
              "        target_price\n",
              "189581        9999.0\n",
              "90606        24500.0\n",
              "45741       180000.0\n",
              "202721       11700.0\n",
              "93899        48800.0\n",
              "...              ...\n",
              "174351       75900.0\n",
              "70873        45999.0\n",
              "61920       105900.0\n",
              "92620        68880.0\n",
              "182818       23900.0\n",
              "\n",
              "[26614 rows x 1 columns]"
            ]
          },
          "metadata": {
            "tags": []
          },
          "execution_count": 80
        }
      ]
    },
    {
      "cell_type": "code",
      "metadata": {
        "colab": {
          "base_uri": "https://localhost:8080/"
        },
        "id": "hr_f6-rniVXx",
        "outputId": "d9f64ef0-0b91-4275-e017-52389ce35123"
      },
      "source": [
        "from sklearn.metrics import r2_score \n",
        "r2_score(y_test, y_cnn_pred)"
      ],
      "execution_count": null,
      "outputs": [
        {
          "output_type": "execute_result",
          "data": {
            "text/plain": [
              "0.802681308353344"
            ]
          },
          "metadata": {
            "tags": []
          },
          "execution_count": 81
        }
      ]
    },
    {
      "cell_type": "code",
      "metadata": {
        "colab": {
          "base_uri": "https://localhost:8080/"
        },
        "id": "vMV6ErHc3aX5",
        "outputId": "be54b19f-9aba-46c1-d86c-0a91ff1719c8"
      },
      "source": [
        "from sklearn import metrics\n",
        "\n",
        "print('Mean Absolute Error:', metrics.mean_absolute_error(y_scaled_test, y_cnn_norm))\n",
        "print('Mean Squared Error:', metrics.mean_squared_error(y_scaled_test, y_cnn_norm))\n",
        "print('Root Mean Squared Error:', np.sqrt(metrics.mean_squared_error(y_scaled_test, y_cnn_norm)))"
      ],
      "execution_count": null,
      "outputs": [
        {
          "output_type": "stream",
          "text": [
            "Mean Absolute Error: 0.2872227704747899\n",
            "Mean Squared Error: 0.1965778377651768\n",
            "Root Mean Squared Error: 0.4433709933736947\n"
          ],
          "name": "stdout"
        }
      ]
    },
    {
      "cell_type": "code",
      "metadata": {
        "colab": {
          "base_uri": "https://localhost:8080/",
          "height": 265
        },
        "id": "sjQ2xLTY3AMX",
        "outputId": "b1f001bc-1a0b-41fc-ae43-ad7db47e88aa"
      },
      "source": [
        "x_ax = range(len(y_cnn_pred))\n",
        "plt.scatter(x_ax, y_test, s=5, color=\"blue\", label=\"original\")\n",
        "plt.plot(x_ax, y_cnn_pred, lw=0.8, color=\"red\", label=\"predicted\")\n",
        "plt.legend()\n",
        "plt.show()"
      ],
      "execution_count": null,
      "outputs": [
        {
          "output_type": "display_data",
          "data": {
            "image/png": "[encoded data removed]",
            "text/plain": [
              "<Figure size 432x288 with 1 Axes>"
            ]
          },
          "metadata": {
            "tags": [],
            "needs_background": "light"
          }
        }
      ]
    },
    {
      "cell_type": "markdown",
      "metadata": {
        "id": "SWR6Z4ZYi8X0"
      },
      "source": [
        "# **Polynomial Regression**"
      ]
    },
    {
      "cell_type": "code",
      "metadata": {
        "id": "iN7i8mrwnJV8"
      },
      "source": [
        "from sklearn.preprocessing import PolynomialFeatures\n",
        "\n",
        "P_reg = PolynomialFeatures(degree = 4)"
      ],
      "execution_count": null,
      "outputs": []
    },
    {
      "cell_type": "markdown",
      "metadata": {
        "id": "QdYhJ7MRi7qG"
      },
      "source": [
        ""
      ]
    },
    {
      "cell_type": "code",
      "metadata": {
        "id": "1zxWi4t4PAQV"
      },
      "source": [
        "nsamples, nx, ny = scaled_features_train.shape\n",
        "d2_train_dataset = scaled_features_train.reshape((nsamples,nx*ny))"
      ],
      "execution_count": null,
      "outputs": []
    },
    {
      "cell_type": "code",
      "metadata": {
        "id": "VKIhSJPKPMTz"
      },
      "source": [
        "nsamples, nx, ny = scaled_features_test.shape\n",
        "d2_test_dataset = scaled_features_test.reshape((nsamples,nx*ny))"
      ],
      "execution_count": null,
      "outputs": []
    },
    {
      "cell_type": "code",
      "metadata": {
        "id": "L7uAqbRYnKYj"
      },
      "source": [
        "X_P = P_reg.fit(d2_train_dataset)\n",
        "X_Poly_train = X_P.transform(d2_train_dataset)\n",
        "X_Poly_test = X_P.transform(d2_test_dataset)"
      ],
      "execution_count": null,
      "outputs": []
    },
    {
      "cell_type": "code",
      "metadata": {
        "id": "9iL5qvowPuPP"
      },
      "source": [
        "from sklearn.linear_model import LinearRegression"
      ],
      "execution_count": null,
      "outputs": []
    },
    {
      "cell_type": "code",
      "metadata": {
        "colab": {
          "base_uri": "https://localhost:8080/"
        },
        "id": "gqeUKPaAowSm",
        "outputId": "1cc18f33-fa73-4326-f754-8100b31b4b59"
      },
      "source": [
        "start_poly = timeit.default_timer()\n",
        "\n",
        "L_reg2 = LinearRegression()\n",
        "L_reg2.fit(X_Poly_train,y_scaled_train)\n",
        "\n",
        "stop_poly = timeit.default_timer()\n",
        "\n",
        "print('Time: ', stop_poly - start_poly) \n"
      ],
      "execution_count": null,
      "outputs": [
        {
          "output_type": "stream",
          "text": [
            "Time:  2.6919993049996265\n"
          ],
          "name": "stdout"
        }
      ]
    },
    {
      "cell_type": "code",
      "metadata": {
        "id": "JGVNwvtdo3bD"
      },
      "source": [
        "poly_pred = L_reg2.predict(X_Poly_test)"
      ],
      "execution_count": null,
      "outputs": []
    },
    {
      "cell_type": "code",
      "metadata": {
        "id": "tx_RLWtTpJU6"
      },
      "source": [
        "poly_predicted = sc2.inverse_transform(poly_pred)"
      ],
      "execution_count": null,
      "outputs": []
    },
    {
      "cell_type": "code",
      "metadata": {
        "colab": {
          "base_uri": "https://localhost:8080/",
          "height": 402
        },
        "id": "karRqChfnOp2",
        "outputId": "b601aedf-c73c-44cd-c3eb-9d7029f24806"
      },
      "source": [
        "y_test"
      ],
      "execution_count": null,
      "outputs": [
        {
          "output_type": "execute_result",
          "data": {
            "text/html": [
              "<div>\n",
              "<style scoped>\n",
              "    .dataframe tbody tr th:only-of-type {\n",
              "        vertical-align: middle;\n",
              "    }\n",
              "\n",
              "    .dataframe tbody tr th {\n",
              "        vertical-align: top;\n",
              "    }\n",
              "\n",
              "    .dataframe thead th {\n",
              "        text-align: right;\n",
              "    }\n",
              "</style>\n",
              "<table border=\"1\" class=\"dataframe\">\n",
              "  <thead>\n",
              "    <tr style=\"text-align: right;\">\n",
              "      <th></th>\n",
              "      <th>target_price</th>\n",
              "    </tr>\n",
              "  </thead>\n",
              "  <tbody>\n",
              "    <tr>\n",
              "      <th>189581</th>\n",
              "      <td>9999.0</td>\n",
              "    </tr>\n",
              "    <tr>\n",
              "      <th>90606</th>\n",
              "      <td>24500.0</td>\n",
              "    </tr>\n",
              "    <tr>\n",
              "      <th>45741</th>\n",
              "      <td>180000.0</td>\n",
              "    </tr>\n",
              "    <tr>\n",
              "      <th>202721</th>\n",
              "      <td>11700.0</td>\n",
              "    </tr>\n",
              "    <tr>\n",
              "      <th>93899</th>\n",
              "      <td>48800.0</td>\n",
              "    </tr>\n",
              "    <tr>\n",
              "      <th>...</th>\n",
              "      <td>...</td>\n",
              "    </tr>\n",
              "    <tr>\n",
              "      <th>174351</th>\n",
              "      <td>75900.0</td>\n",
              "    </tr>\n",
              "    <tr>\n",
              "      <th>70873</th>\n",
              "      <td>45999.0</td>\n",
              "    </tr>\n",
              "    <tr>\n",
              "      <th>61920</th>\n",
              "      <td>105900.0</td>\n",
              "    </tr>\n",
              "    <tr>\n",
              "      <th>92620</th>\n",
              "      <td>68880.0</td>\n",
              "    </tr>\n",
              "    <tr>\n",
              "      <th>182818</th>\n",
              "      <td>23900.0</td>\n",
              "    </tr>\n",
              "  </tbody>\n",
              "</table>\n",
              "<p>26614 rows × 1 columns</p>\n",
              "</div>"
            ],
            "text/plain": [
              "        target_price\n",
              "189581        9999.0\n",
              "90606        24500.0\n",
              "45741       180000.0\n",
              "202721       11700.0\n",
              "93899        48800.0\n",
              "...              ...\n",
              "174351       75900.0\n",
              "70873        45999.0\n",
              "61920       105900.0\n",
              "92620        68880.0\n",
              "182818       23900.0\n",
              "\n",
              "[26614 rows x 1 columns]"
            ]
          },
          "metadata": {
            "tags": []
          },
          "execution_count": 92
        }
      ]
    },
    {
      "cell_type": "code",
      "metadata": {
        "colab": {
          "base_uri": "https://localhost:8080/"
        },
        "id": "Eh6flMLIpIkC",
        "outputId": "5e5d7e1f-40a1-44c5-dfd6-ba0aac0ef523"
      },
      "source": [
        "poly_predicted"
      ],
      "execution_count": null,
      "outputs": [
        {
          "output_type": "execute_result",
          "data": {
            "text/plain": [
              "array([[ 15929.19027492],\n",
              "       [ 15619.68071481],\n",
              "       [147377.91889726],\n",
              "       ...,\n",
              "       [ 71785.19809791],\n",
              "       [ 75453.93615951],\n",
              "       [ 16933.535588  ]])"
            ]
          },
          "metadata": {
            "tags": []
          },
          "execution_count": 93
        }
      ]
    },
    {
      "cell_type": "code",
      "metadata": {
        "colab": {
          "base_uri": "https://localhost:8080/"
        },
        "id": "h_sHMb8RnOj7",
        "outputId": "ac408cf3-90d2-4c41-ed90-0b0f0078dd46"
      },
      "source": [
        "r2_score(y_test, poly_predicted)"
      ],
      "execution_count": null,
      "outputs": [
        {
          "output_type": "execute_result",
          "data": {
            "text/plain": [
              "0.8665414415357509"
            ]
          },
          "metadata": {
            "tags": []
          },
          "execution_count": 94
        }
      ]
    },
    {
      "cell_type": "code",
      "metadata": {
        "colab": {
          "base_uri": "https://localhost:8080/"
        },
        "id": "VoUb22kZ2_YW",
        "outputId": "e996d3a9-767d-4932-c94a-2e53ed580f5f"
      },
      "source": [
        "from sklearn import metrics\n",
        "\n",
        "print('Mean Absolute Error:', metrics.mean_absolute_error(y_scaled_test, poly_pred))\n",
        "print('Mean Squared Error:', metrics.mean_squared_error(y_scaled_test, poly_pred))\n",
        "print('Root Mean Squared Error:', np.sqrt(metrics.mean_squared_error(y_scaled_test, poly_pred)))"
      ],
      "execution_count": null,
      "outputs": [
        {
          "output_type": "stream",
          "text": [
            "Mean Absolute Error: 0.2121040243235336\n",
            "Mean Squared Error: 0.1329574737181045\n",
            "Root Mean Squared Error: 0.36463334147894993\n"
          ],
          "name": "stdout"
        }
      ]
    },
    {
      "cell_type": "code",
      "metadata": {
        "colab": {
          "base_uri": "https://localhost:8080/",
          "height": 265
        },
        "id": "3APSAhIGntFL",
        "outputId": "3b15367f-bb33-42bb-fcb0-a4c8c1db2b12"
      },
      "source": [
        "x_ax = range(len(poly_predicted))\n",
        "plt.scatter(x_ax, y_test, s=5, color=\"blue\", label=\"original\")\n",
        "plt.plot(x_ax, poly_predicted, lw=0.8, color=\"red\", label=\"predicted\")\n",
        "plt.legend()\n",
        "plt.show()"
      ],
      "execution_count": null,
      "outputs": [
        {
          "output_type": "display_data",
          "data": {
            "image/png": "[encoded data removed]",
            "text/plain": [
              "<Figure size 432x288 with 1 Axes>"
            ]
          },
          "metadata": {
            "tags": [],
            "needs_background": "light"
          }
        }
      ]
    },
    {
      "cell_type": "markdown",
      "metadata": {
        "id": "N4fI3M9pjC1D"
      },
      "source": [
        "# **Random Forest Regression**"
      ]
    },
    {
      "cell_type": "code",
      "metadata": {
        "id": "0Hw8p93KYvnG"
      },
      "source": [
        "from sklearn.ensemble import RandomForestRegressor\n",
        "regressor_random = RandomForestRegressor(n_estimators = 10,random_state = 0)"
      ],
      "execution_count": null,
      "outputs": []
    },
    {
      "cell_type": "code",
      "metadata": {
        "id": "QQSB6wwSbaro"
      },
      "source": [
        "X_random_train = scaled_features_train.reshape(scaled_features_train.shape[0], -1)\n",
        "X_random_test = scaled_features_test.reshape(scaled_features_test.shape[0], -1)"
      ],
      "execution_count": null,
      "outputs": []
    },
    {
      "cell_type": "code",
      "metadata": {
        "colab": {
          "base_uri": "https://localhost:8080/"
        },
        "id": "niaLx-ZTZt4k",
        "outputId": "7daddddb-98a2-4207-acf3-8178b7242845"
      },
      "source": [
        "import timeit\n",
        "start_random = timeit.default_timer()\n",
        "\n",
        "regressor_random.fit(X_random_train,y_scaled_train)\n",
        "\n",
        "stop_random = timeit.default_timer()\n",
        "\n",
        "print('Time: ', stop_random - start_random) "
      ],
      "execution_count": null,
      "outputs": [
        {
          "output_type": "stream",
          "text": [
            "/usr/local/lib/python3.7/dist-packages/ipykernel_launcher.py:4: DataConversionWarning: A column-vector y was passed when a 1d array was expected. Please change the shape of y to (n_samples,), for example using ravel().\n",
            "  after removing the cwd from sys.path.\n"
          ],
          "name": "stderr"
        },
        {
          "output_type": "stream",
          "text": [
            "Time:  2.164081670000087\n"
          ],
          "name": "stdout"
        }
      ]
    },
    {
      "cell_type": "code",
      "metadata": {
        "id": "7fkPwuKmb8cW"
      },
      "source": [
        "y_random_pred = sc2.inverse_transform(regressor_random.predict(X_random_test))"
      ],
      "execution_count": null,
      "outputs": []
    },
    {
      "cell_type": "code",
      "metadata": {
        "id": "HC9FBtWO15yM"
      },
      "source": [
        "y_predictionn = regressor_random.predict(X_random_test)"
      ],
      "execution_count": null,
      "outputs": []
    },
    {
      "cell_type": "code",
      "metadata": {
        "colab": {
          "base_uri": "https://localhost:8080/"
        },
        "id": "eOZODb3kcFGD",
        "outputId": "9c250c6f-4f4a-441a-a644-f913a9ee5bde"
      },
      "source": [
        "y_random_pred"
      ],
      "execution_count": null,
      "outputs": [
        {
          "output_type": "execute_result",
          "data": {
            "text/plain": [
              "array([ 19310.        ,  14309.9       , 175474.16666667, ...,\n",
              "        91020.        ,  62889.7       ,  15937.5       ])"
            ]
          },
          "metadata": {
            "tags": []
          },
          "execution_count": 102
        }
      ]
    },
    {
      "cell_type": "code",
      "metadata": {
        "colab": {
          "base_uri": "https://localhost:8080/",
          "height": 402
        },
        "id": "dfX4BUQ4cHe7",
        "outputId": "f8a9bde9-9186-42b0-c338-c0d950700d7c"
      },
      "source": [
        "y_test"
      ],
      "execution_count": null,
      "outputs": [
        {
          "output_type": "execute_result",
          "data": {
            "text/html": [
              "<div>\n",
              "<style scoped>\n",
              "    .dataframe tbody tr th:only-of-type {\n",
              "        vertical-align: middle;\n",
              "    }\n",
              "\n",
              "    .dataframe tbody tr th {\n",
              "        vertical-align: top;\n",
              "    }\n",
              "\n",
              "    .dataframe thead th {\n",
              "        text-align: right;\n",
              "    }\n",
              "</style>\n",
              "<table border=\"1\" class=\"dataframe\">\n",
              "  <thead>\n",
              "    <tr style=\"text-align: right;\">\n",
              "      <th></th>\n",
              "      <th>target_price</th>\n",
              "    </tr>\n",
              "  </thead>\n",
              "  <tbody>\n",
              "    <tr>\n",
              "      <th>189581</th>\n",
              "      <td>9999.0</td>\n",
              "    </tr>\n",
              "    <tr>\n",
              "      <th>90606</th>\n",
              "      <td>24500.0</td>\n",
              "    </tr>\n",
              "    <tr>\n",
              "      <th>45741</th>\n",
              "      <td>180000.0</td>\n",
              "    </tr>\n",
              "    <tr>\n",
              "      <th>202721</th>\n",
              "      <td>11700.0</td>\n",
              "    </tr>\n",
              "    <tr>\n",
              "      <th>93899</th>\n",
              "      <td>48800.0</td>\n",
              "    </tr>\n",
              "    <tr>\n",
              "      <th>...</th>\n",
              "      <td>...</td>\n",
              "    </tr>\n",
              "    <tr>\n",
              "      <th>174351</th>\n",
              "      <td>75900.0</td>\n",
              "    </tr>\n",
              "    <tr>\n",
              "      <th>70873</th>\n",
              "      <td>45999.0</td>\n",
              "    </tr>\n",
              "    <tr>\n",
              "      <th>61920</th>\n",
              "      <td>105900.0</td>\n",
              "    </tr>\n",
              "    <tr>\n",
              "      <th>92620</th>\n",
              "      <td>68880.0</td>\n",
              "    </tr>\n",
              "    <tr>\n",
              "      <th>182818</th>\n",
              "      <td>23900.0</td>\n",
              "    </tr>\n",
              "  </tbody>\n",
              "</table>\n",
              "<p>26614 rows × 1 columns</p>\n",
              "</div>"
            ],
            "text/plain": [
              "        target_price\n",
              "189581        9999.0\n",
              "90606        24500.0\n",
              "45741       180000.0\n",
              "202721       11700.0\n",
              "93899        48800.0\n",
              "...              ...\n",
              "174351       75900.0\n",
              "70873        45999.0\n",
              "61920       105900.0\n",
              "92620        68880.0\n",
              "182818       23900.0\n",
              "\n",
              "[26614 rows x 1 columns]"
            ]
          },
          "metadata": {
            "tags": []
          },
          "execution_count": 103
        }
      ]
    },
    {
      "cell_type": "code",
      "metadata": {
        "colab": {
          "base_uri": "https://localhost:8080/"
        },
        "id": "bnpkpUpMcJ3B",
        "outputId": "c87578d7-0d78-4d7d-d069-d9cce7cf2f5c"
      },
      "source": [
        "from sklearn.metrics import r2_score\n",
        "r2_score(y_test,y_random_pred)"
      ],
      "execution_count": null,
      "outputs": [
        {
          "output_type": "execute_result",
          "data": {
            "text/plain": [
              "0.873760911748056"
            ]
          },
          "metadata": {
            "tags": []
          },
          "execution_count": 104
        }
      ]
    },
    {
      "cell_type": "code",
      "metadata": {
        "colab": {
          "base_uri": "https://localhost:8080/",
          "height": 265
        },
        "id": "D_VBxM8ZcZzw",
        "outputId": "9aad2e10-4bf4-4377-8fd8-70759e438b1b"
      },
      "source": [
        "x_ax = range(len(y_random_pred))\n",
        "plt.scatter(x_ax, y_test, s=5, color=\"blue\", label=\"original\")\n",
        "plt.plot(x_ax, y_random_pred, lw=0.8, color=\"red\", label=\"predicted\")\n",
        "plt.legend()\n",
        "plt.show()"
      ],
      "execution_count": null,
      "outputs": [
        {
          "output_type": "display_data",
          "data": {
            "image/png": "[encoded data removed]",
            "text/plain": [
              "<Figure size 432x288 with 1 Axes>"
            ]
          },
          "metadata": {
            "tags": [],
            "needs_background": "light"
          }
        }
      ]
    },
    {
      "cell_type": "code",
      "metadata": {
        "colab": {
          "base_uri": "https://localhost:8080/"
        },
        "id": "NWiItC3w0aQ8",
        "outputId": "25d972ec-96dc-405a-fead-433aeb28df4e"
      },
      "source": [
        "from sklearn import metrics\n",
        "\n",
        "print('Mean Absolute Error:', metrics.mean_absolute_error(y_scaled_test, y_predictionn))\n",
        "print('Mean Squared Error:', metrics.mean_squared_error(y_scaled_test, y_predictionn))\n",
        "print('Root Mean Squared Error:', np.sqrt(metrics.mean_squared_error(y_scaled_test, y_predictionn)))"
      ],
      "execution_count": null,
      "outputs": [
        {
          "output_type": "stream",
          "text": [
            "Mean Absolute Error: 0.20054139765332255\n",
            "Mean Squared Error: 0.12576510979587366\n",
            "Root Mean Squared Error: 0.3546337685498572\n"
          ],
          "name": "stdout"
        }
      ]
    },
    {
      "cell_type": "markdown",
      "metadata": {
        "id": "McFpufxgVqCa"
      },
      "source": [
        "# **XG Boost Regressor**"
      ]
    },
    {
      "cell_type": "code",
      "metadata": {
        "id": "OlMDBx8dXkie"
      },
      "source": [
        "import xgboost as xg"
      ],
      "execution_count": null,
      "outputs": []
    },
    {
      "cell_type": "code",
      "metadata": {
        "id": "cyBTz-HUUDxj"
      },
      "source": [
        "xgb_r = xg.XGBRegressor(objective ='reg:linear',\n",
        "                  n_estimators = 100, seed = 123)"
      ],
      "execution_count": null,
      "outputs": []
    },
    {
      "cell_type": "code",
      "metadata": {
        "colab": {
          "base_uri": "https://localhost:8080/"
        },
        "id": "PGPCC6qSUGLC",
        "outputId": "b1672446-f206-447a-9f38-65b98a82f7f6"
      },
      "source": [
        "import timeit\n",
        "start_random = timeit.default_timer()\n",
        "\n",
        "\n",
        "xgb_r.fit(scaled_features_train,y_scaled_train)\n",
        "\n",
        "stop_random = timeit.default_timer()\n",
        "\n",
        "print('Time: ', stop_random - start_random) "
      ],
      "execution_count": null,
      "outputs": [
        {
          "output_type": "stream",
          "text": [
            "[18:29:35] WARNING: /workspace/src/objective/regression_obj.cu:152: reg:linear is now deprecated in favor of reg:squarederror.\n",
            "Time:  4.625678646999972\n"
          ],
          "name": "stdout"
        }
      ]
    },
    {
      "cell_type": "code",
      "metadata": {
        "id": "kQ-XX9hyVaAh"
      },
      "source": [
        "y_xg = xgb_r.predict(scaled_features_test)"
      ],
      "execution_count": null,
      "outputs": []
    },
    {
      "cell_type": "code",
      "metadata": {
        "id": "g_-K5s61UNvy"
      },
      "source": [
        "pred = sc2.inverse_transform(xgb_r.predict(scaled_features_test))"
      ],
      "execution_count": null,
      "outputs": []
    },
    {
      "cell_type": "code",
      "metadata": {
        "colab": {
          "base_uri": "https://localhost:8080/",
          "height": 402
        },
        "id": "9n3IMdCwUXpF",
        "outputId": "7594f95f-bc09-4ab5-8108-352cbebb0b8c"
      },
      "source": [
        "y_test"
      ],
      "execution_count": null,
      "outputs": [
        {
          "output_type": "execute_result",
          "data": {
            "text/html": [
              "<div>\n",
              "<style scoped>\n",
              "    .dataframe tbody tr th:only-of-type {\n",
              "        vertical-align: middle;\n",
              "    }\n",
              "\n",
              "    .dataframe tbody tr th {\n",
              "        vertical-align: top;\n",
              "    }\n",
              "\n",
              "    .dataframe thead th {\n",
              "        text-align: right;\n",
              "    }\n",
              "</style>\n",
              "<table border=\"1\" class=\"dataframe\">\n",
              "  <thead>\n",
              "    <tr style=\"text-align: right;\">\n",
              "      <th></th>\n",
              "      <th>target_price</th>\n",
              "    </tr>\n",
              "  </thead>\n",
              "  <tbody>\n",
              "    <tr>\n",
              "      <th>189581</th>\n",
              "      <td>9999.0</td>\n",
              "    </tr>\n",
              "    <tr>\n",
              "      <th>90606</th>\n",
              "      <td>24500.0</td>\n",
              "    </tr>\n",
              "    <tr>\n",
              "      <th>45741</th>\n",
              "      <td>180000.0</td>\n",
              "    </tr>\n",
              "    <tr>\n",
              "      <th>202721</th>\n",
              "      <td>11700.0</td>\n",
              "    </tr>\n",
              "    <tr>\n",
              "      <th>93899</th>\n",
              "      <td>48800.0</td>\n",
              "    </tr>\n",
              "    <tr>\n",
              "      <th>...</th>\n",
              "      <td>...</td>\n",
              "    </tr>\n",
              "    <tr>\n",
              "      <th>174351</th>\n",
              "      <td>75900.0</td>\n",
              "    </tr>\n",
              "    <tr>\n",
              "      <th>70873</th>\n",
              "      <td>45999.0</td>\n",
              "    </tr>\n",
              "    <tr>\n",
              "      <th>61920</th>\n",
              "      <td>105900.0</td>\n",
              "    </tr>\n",
              "    <tr>\n",
              "      <th>92620</th>\n",
              "      <td>68880.0</td>\n",
              "    </tr>\n",
              "    <tr>\n",
              "      <th>182818</th>\n",
              "      <td>23900.0</td>\n",
              "    </tr>\n",
              "  </tbody>\n",
              "</table>\n",
              "<p>26614 rows × 1 columns</p>\n",
              "</div>"
            ],
            "text/plain": [
              "        target_price\n",
              "189581        9999.0\n",
              "90606        24500.0\n",
              "45741       180000.0\n",
              "202721       11700.0\n",
              "93899        48800.0\n",
              "...              ...\n",
              "174351       75900.0\n",
              "70873        45999.0\n",
              "61920       105900.0\n",
              "92620        68880.0\n",
              "182818       23900.0\n",
              "\n",
              "[26614 rows x 1 columns]"
            ]
          },
          "metadata": {
            "tags": []
          },
          "execution_count": 58
        }
      ]
    },
    {
      "cell_type": "code",
      "metadata": {
        "colab": {
          "base_uri": "https://localhost:8080/"
        },
        "id": "ne9ayunHUa95",
        "outputId": "79c10b67-3941-448f-80fa-6ad67da4b3fa"
      },
      "source": [
        "from sklearn.metrics import r2_score\n",
        "r2_score(y_test,pred)"
      ],
      "execution_count": null,
      "outputs": [
        {
          "output_type": "execute_result",
          "data": {
            "text/plain": [
              "0.8745946854571528"
            ]
          },
          "metadata": {
            "tags": []
          },
          "execution_count": 59
        }
      ]
    },
    {
      "cell_type": "code",
      "metadata": {
        "colab": {
          "base_uri": "https://localhost:8080/",
          "height": 265
        },
        "id": "FhnNy0q0VPvJ",
        "outputId": "8d3f2b9e-b81f-4c9f-dd56-4af19debe46c"
      },
      "source": [
        "x_ax = range(len(pred))\n",
        "plt.scatter(x_ax, y_test, s=5, color=\"blue\", label=\"original\")\n",
        "plt.plot(x_ax,pred, lw=0.8, color=\"red\", label=\"predicted\")\n",
        "plt.legend()\n",
        "plt.show()"
      ],
      "execution_count": null,
      "outputs": [
        {
          "output_type": "display_data",
          "data": {
            "image/png": "[encoded data removed]",
            "text/plain": [
              "<Figure size 432x288 with 1 Axes>"
            ]
          },
          "metadata": {
            "tags": [],
            "needs_background": "light"
          }
        }
      ]
    },
    {
      "cell_type": "code",
      "metadata": {
        "colab": {
          "base_uri": "https://localhost:8080/"
        },
        "id": "-b2H1paMVV-7",
        "outputId": "d5df9083-fad0-42b7-ec7f-61b7f62ef846"
      },
      "source": [
        "from sklearn import metrics\n",
        "\n",
        "print('Mean Absolute Error:', metrics.mean_absolute_error(y_scaled_test, y_xg))\n",
        "print('Mean Squared Error:', metrics.mean_squared_error(y_scaled_test, y_xg))\n",
        "print('Root Mean Squared Error:', np.sqrt(metrics.mean_squared_error(y_scaled_test, y_xg)))"
      ],
      "execution_count": null,
      "outputs": [
        {
          "output_type": "stream",
          "text": [
            "Mean Absolute Error: 0.20679283159444645\n",
            "Mean Squared Error: 0.12493446650919567\n",
            "Root Mean Squared Error: 0.35346070009153163\n"
          ],
          "name": "stdout"
        }
      ]
    },
    {
      "cell_type": "markdown",
      "metadata": {
        "id": "TV7-bmdfWfcS"
      },
      "source": [
        "# **Model Performance**"
      ]
    },
    {
      "cell_type": "code",
      "metadata": {
        "id": "c92VmdB7Wlf4"
      },
      "source": [
        "#Support Vector Regression:- 0.386\n",
        "\n",
        "#Custom Convolutional Neural Network:-0.802\n",
        "\n",
        "#Polynomial Regression:-0.866\n",
        "\n",
        "#Random Forest Regression:-0.873\n",
        "\n",
        "#XG Boost Regression:- 0.874"
      ],
      "execution_count": null,
      "outputs": []
    }
  ]
}